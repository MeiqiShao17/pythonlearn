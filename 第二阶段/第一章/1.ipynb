{
 "cells": [
  {
   "cell_type": "markdown",
   "metadata": {},
   "source": [
    "## 第二阶段 面向对象\n",
    "## 2.1 初识对象  "
   ]
  },
  {
   "cell_type": "markdown",
   "metadata": {},
   "source": [
    "### 使用对象打印数据\n",
    "1. 在程序中设计表格，称谓：设计类（class）\n",
    "    class student:\n",
    "          name=None   #记录学生姓名\n",
    "\n",
    "2. 在程序中打印生产表格，称为：创建对象\n",
    "    #基于类创建对象\n",
    "    stu_1=Student()\n",
    "    stu_2=Student()\n",
    "\n",
    "3. 在程序中填写表格，称为：对象属性赋值\n",
    "    stu_1.name=\"tim\"  #为学生1对象赋予名称属性值\n",
    "    stu_2.name=\"tom\"  #为学生2对象赋予名称属性值"
   ]
  },
  {
   "cell_type": "code",
   "execution_count": 2,
   "metadata": {},
   "outputs": [
    {
     "name": "stdout",
     "output_type": "stream",
     "text": [
      "tom\n",
      "male\n",
      "china\n",
      "shandong\n",
      "19\n"
     ]
    }
   ],
   "source": [
    "#1 设计一个类（类比生活中：设计一张登记表）\n",
    "class Student:\n",
    "    name=None         #记录学生姓名\n",
    "    gender=None       #记录学生性别\n",
    "    nationaliy= None  #记录学生国籍\n",
    "    native_place=None #记录学生籍贯\n",
    "    age =None         #记录学生年龄\n",
    "\n",
    "#2 创建一个对象（类比生活中：打印一张登记表）\n",
    "stu_1= Student()\n",
    "\n",
    "#3.对象属性进行赋值（类比生活：填写表单）\n",
    "stu_1.name=\"tom\"\n",
    "stu_1.gender=\"male\"\n",
    "stu_1.nationaliy=\"china\"\n",
    "stu_1.native_place=\"shandong\"\n",
    "stu_1.age=\"19\"\n",
    "print(stu_1.name)\n",
    "print(stu_1.gender)\n",
    "print(stu_1.nationaliy)\n",
    "print(stu_1.native_place)\n",
    "print(stu_1.age)"
   ]
  },
  {
   "cell_type": "markdown",
   "metadata": {},
   "source": [
    "### 2.2 类的成员方法  \n",
    "1. 类的使用语法  \n",
    "class类名称 ：  #class 关键字，定义类\n",
    "    类的属性  #定义在类中的变量（成员变量）\n",
    "    类的行为  #定义在类中的函数（成员方法）\n",
    "  \n",
    "创建类对象的语法：  \n",
    "对象=类名称（）  \n",
    "\n",
    "定义在类内部的函数称为方法\n",
    "\n",
    "成员方法的定义语法：  \n",
    "def 方法名（self，形参1，...） #self表示类自身，在方法内部，想要访问类的成员变量，必须使用self\n",
    "    方法体\n",
    "  "
   ]
  },
  {
   "cell_type": "code",
   "execution_count": 4,
   "metadata": {},
   "outputs": [
    {
     "name": "stdout",
     "output_type": "stream",
     "text": [
      "大家好，我是：tim,aaa\n",
      "大家好，我是：lucy,nnn\n",
      "大家好，我是：bob,uuu\n"
     ]
    }
   ],
   "source": [
    "#定义一个带有成员方法的类\n",
    "class Student:\n",
    "    name=None   #学生姓名\n",
    "\n",
    "    def say_hi(self):\n",
    "        print(f\"hello everyone!,我是{self.name}\")\n",
    "\n",
    "    def say_hi2(self,msg):\n",
    "        print(f\"大家好，我是：{self.name},{msg}\")\n",
    "\n",
    "stu=Student()\n",
    "stu.name=\"tim\"\n",
    "stu.say_hi2(\"aaa\")\n",
    "\n",
    "stu2=Student()\n",
    "stu2.name=\"lucy\"\n",
    "stu2.say_hi2(\"nnn\")\n",
    "\n",
    "stu3=Student()\n",
    "stu3.name=\"bob\"\n",
    "stu3.say_hi2(\"uuu\")"
   ]
  },
  {
   "cell_type": "markdown",
   "metadata": {},
   "source": [
    "### 2.3 类和对象\n",
    "类：程序中的设计图纸\n",
    "对象是基于图纸生产的具体实体\n",
    "面向对象编程：使用对象进行编程 （设计一个类去创建对象，并使用创建出来的对象完成具体工作）"
   ]
  },
  {
   "cell_type": "code",
   "execution_count": null,
   "metadata": {},
   "outputs": [],
   "source": [
    "#面向对象的编程套路\n",
    "\n",
    "#设计一个闹钟类\n",
    "class Clock:\n",
    "    id=None   #序列化\n",
    "    price:None   #价格\n",
    "\n",
    "    def ring(self):\n",
    "        import winsound\n",
    "        winsound.Beep(2000,3000)\n",
    "\n",
    "#构建2个闹钟对象并让其工作\n",
    "clock_1=Clock()\n",
    "clock_1.id=\"003032\"\n",
    "clock_1.price=19.99\n",
    "print(f\"闹钟ID:{clock_1.id},价格是:{clock_1.price}\")\n",
    "clock_1.ring()\n",
    "\n",
    "clock_2=Clock()\n",
    "clock_2.id=\"003033\"\n",
    "clock_2.price=21.99\n",
    "print(f\"闹钟ID:{clock_2.id},价格是:{clock_2.price}\")\n",
    "clock_2.ring()"
   ]
  },
  {
   "cell_type": "markdown",
   "metadata": {},
   "source": [
    "### 2.4构造方法\n",
    "属性（成员变量）的赋值  \n",
    "构造方法：python类可使用魔术方法1: __init__()方法  \n",
    "         可以实现：在创建类对象（构造类）时，会自动执行\n",
    "                  在创建类对象（构造类）时，将传入参数自动传递给__init__方法使用\n",
    "         "
   ]
  },
  {
   "cell_type": "code",
   "execution_count": null,
   "metadata": {},
   "outputs": [],
   "source": [
    "#构造方法对成员变量进行赋值\n",
    "#构造方法对名称：__init__\n",
    "\n",
    "class Student:\n",
    "    name=None\n",
    "    age=None\n",
    "    tel=None\n",
    "\n",
    "    def __init__(self,name,age,tel):\n",
    "        self.name=name\n",
    "        self.age=age\n",
    "        self.tel=tel\n",
    "        print(\"Student类创建了一个类对象\")\n",
    "\n",
    "stu=Student(\"tom\",33,\"100000007\")\n",
    "print(stu.age)\n",
    "print(stu.name)\n",
    "print(stu.tel)"
   ]
  },
  {
   "cell_type": "code",
   "execution_count": null,
   "metadata": {},
   "outputs": [],
   "source": [
    "#eg 学生信息的录入"
   ]
  },
  {
   "cell_type": "markdown",
   "metadata": {},
   "source": [
    "### 2.5 魔术方法\n",
    "__str__ 字符串方法  \n",
    "方法名：__str__  \n",
    "返回值：字符串\n",
    "内容中；自行定义  \n",
    "\n",
    "__lt__ 小于符号比较方法\n",
    "方法名：__lt__\n",
    "传入参数：other，另一个类对象\n",
    "返回值：true或false\n",
    "内容：自行定义\n",
    " \n",
    "__le__ 小于等于比较符合方法  \n",
    "方法名：__le__\n",
    "传入参数：other，另一个类对象\n",
    "返回值：true或false\n",
    "内容：自行定义\n",
    "\n",
    "__eq__ 比较运算符实现方法  \n",
    "方法名：__eq__\n",
    "传入参数：other，另一个类对象\n",
    "返回值：true或false\n",
    "内容：自行定义"
   ]
  },
  {
   "cell_type": "code",
   "execution_count": null,
   "metadata": {},
   "outputs": [],
   "source": [
    "#其他内置方法\n",
    "class Student:\n",
    "    def __init__(self,name,age):\n",
    "        self.name=name     #学生姓名\n",
    "        self.age=age       #学生年龄\n",
    "        \n",
    "    #__str__魔术方法\n",
    "    def __str__(self):\n",
    "        return f\"Student类对象, name:{self.name},age:{self.age}\"\n",
    "    \n",
    "    #__lt__魔术方法\n",
    "    def __lt__(self,other):\n",
    "        return self.age<other.age\n",
    "    \n",
    "    #__le__魔术方法\n",
    "    def __le__(self,other):\n",
    "        return self.age<=other.age\n",
    "    \n",
    "    #__eq__魔术方法\n",
    "    def __eq__ (self,other):\n",
    "        return self.age==other.age\n",
    "\n",
    "stu1=Student(\"tom\",36)\n",
    "stu2=Student(\"bob\",39)\n",
    "print(stu1==stu2)"
   ]
  },
  {
   "cell_type": "markdown",
   "metadata": {},
   "source": [
    "### 2.6封装  \n",
    "面向对象编程：基于模版（类）去创建实体（对象），使用对象完成功能开发\n",
    "主要特性：\n",
    "1. 封装：def:将现实世界事物在类中描述为属性和方法\n",
    "私有成员：def：现实事物有部分属性和行为是不对使用者开放的\n",
    "        设置：私有成员变量：变量名以_开头（2个下划线）\n",
    "             私有成员方法：方法名以_开头（2个下划线）\n",
    "        使用限制：类对象无法访问私有成员\n",
    "                 类中的其他成员可以访问私有成员\n",
    "        实际意义：在类中提供仅供内部使用的属性和方法，而不对外开放（类对象无法使用）\n",
    "2. 继承\n",
    "3. 多态 "
   ]
  },
  {
   "cell_type": "code",
   "execution_count": 14,
   "metadata": {},
   "outputs": [
    {
     "name": "stdout",
     "output_type": "stream",
     "text": [
      "让cpu以单核模式运行\n",
      "电量不足，无法使用5g通话，并已设置为单核运行进行省电\n"
     ]
    }
   ],
   "source": [
    "#面向对象封装思想中私有成员的使用\n",
    "\n",
    "#定义一个类，内含私有成员变量和私有成员方法\n",
    "class Phone:\n",
    "\n",
    "    __current_voltage=0.5    #当前手机运行电压\n",
    "\n",
    "    def __keep_single_core(self):\n",
    "        print(\"让cpu以单核模式运行\")\n",
    "    \n",
    "    def call_by_5g(self):\n",
    "        if self.__current_voltage >=1:\n",
    "            print(\"5g通话已开启\")\n",
    "        else:\n",
    "            self.__keep_single_core()\n",
    "            print(\"电量不足，无法使用5g通话，并已设置为单核运行进行省电\")\n",
    "\n",
    "\n",
    "phone=Phone()\n",
    "phone.call_by_5g()\n",
    "#phone.__keep_single_core()\n",
    "#print(phone.__current_voltage)  #会报错 不能被类直接使用"
   ]
  },
  {
   "cell_type": "code",
   "execution_count": 16,
   "metadata": {},
   "outputs": [
    {
     "name": "stdout",
     "output_type": "stream",
     "text": [
      "5g开启\n",
      "正在通话中\n"
     ]
    }
   ],
   "source": [
    "#eg 设计带有私有成员的手机\n",
    "\n",
    "#设计一个类，用来描述手机\n",
    "class  Phone:\n",
    "    #提供私有成员变量：__is_5g_enable\n",
    "    __is_5g_enable=True  #5g状态\n",
    "\n",
    "    #提供私有成员方法：__check_5g()\n",
    "    def __check_5g(self):\n",
    "        if self.__is_5g_enable:\n",
    "            print(\"5g开启\")\n",
    "        else:\n",
    "            print(\"5g关闭，使用4g网络\")\n",
    "    \n",
    "    #提供公开成员方法：call_by_5g()\n",
    "    def call_by_5g(self):\n",
    "        self.__check_5g()\n",
    "        print(\"正在通话中\")\n",
    "\n",
    "phone=Phone()\n",
    "phone.call_by_5g()\n"
   ]
  },
  {
   "cell_type": "markdown",
   "metadata": {},
   "source": [
    "2. 继承\n",
    "单继承：语法： class 类名（父类名）：\n",
    "              类内容体\n",
    "多继承：语法：class 类名（父类1，父类2，...）\n",
    "        ps:对于同名的按照顺序继承\n"
   ]
  },
  {
   "cell_type": "code",
   "execution_count": 20,
   "metadata": {},
   "outputs": [
    {
     "name": "stdout",
     "output_type": "stream",
     "text": [
      "ITCAST\n",
      "4g通话\n",
      "2022年新功能：5g通话\n",
      "4g通话\n",
      "NFC读卡\n",
      "NFC写卡\n",
      "红外遥控开启\n"
     ]
    }
   ],
   "source": [
    "#继承的基础语法\n",
    "\n",
    "#单继承\n",
    "class Phone:\n",
    "    IMEI=None   #序列号\n",
    "    producer=\"ITCAST\" #厂商\n",
    "\n",
    "    def call_by_4g(self):\n",
    "        print(\"4g通话\")\n",
    "\n",
    "class Phone2022(Phone):\n",
    "    face_id=\"1001\"   #面部识别id\n",
    "\n",
    "    def call_by_5g(self):\n",
    "        print(\"2022年新功能：5g通话\")\n",
    "\n",
    "phone=Phone2022()\n",
    "print(phone.producer)\n",
    "phone.call_by_4g()\n",
    "phone.call_by_5g()\n",
    "\n",
    "#多继承\n",
    "class NFCReader:\n",
    "    nfc_type=\"第五代\"\n",
    "    producer=\"HM\"\n",
    "\n",
    "    def read_card(self):\n",
    "        print(\"NFC读卡\")\n",
    "\n",
    "    def write_card(self):\n",
    "        print(\"NFC写卡\")\n",
    "\n",
    "class RemoveControl:\n",
    "    re_type=\"红外遥控\"\n",
    "\n",
    "    def control(self):\n",
    "        print(\"红外遥控开启\")\n",
    "\n",
    "class Myphone(Phone,NFCReader,RemoveControl):\n",
    "    pass          #用来补全语法\n",
    "\n",
    "phone=Myphone()\n",
    "phone.call_by_4g()\n",
    "phone.read_card()\n",
    "phone.write_card()\n",
    "phone.control()"
   ]
  },
  {
   "cell_type": "markdown",
   "metadata": {},
   "source": [
    "继承\n",
    "复写：def：子类继承父类的成员属性和成员方法后，若对其不满意，可以进行复写\n",
    "     方法：在子类重新定义同名和方法和属性\n",
    "\n",
    "调用父类同名成员\n",
    "调用方式：\n",
    "1. 调用父类成员\n",
    "  使用成员变量：父类名.成员变量\n",
    "  使用成员方法：父类名.成员方法（self）\n",
    "\n",
    "2. 使用super（）调用父类成员\n",
    "  使用成员变量：super（）.成员变量\n",
    "  使用成员方法：super（）.成员方法（）\n",
    "\n",
    "ps：只可以在子类内部调用父类的同名成员"
   ]
  },
  {
   "cell_type": "code",
   "execution_count": 26,
   "metadata": {},
   "outputs": [
    {
     "name": "stdout",
     "output_type": "stream",
     "text": [
      "开启cpu单核模式，确保通话的时候省电\n",
      "父类的厂商是:ITCAST\n",
      "使用5g网络进行通话\n",
      "关闭cpu单核模式，确保性能\n",
      "itheima\n"
     ]
    }
   ],
   "source": [
    "#复写\n",
    "\n",
    "class Phone:\n",
    "    IMEI=None   #序列号\n",
    "    producer=\"ITCAST\" #厂商\n",
    "\n",
    "    def call_by_5g(self):\n",
    "        print(\"使用5g网络进行通话\")\n",
    "\n",
    "#定义子类，复写父类成员\n",
    "class Myphone(Phone):\n",
    "    producer=\"itheima\"  #复写父类成员属性\n",
    "\n",
    "    def call_by_5g(self):\n",
    "        print(\"开启cpu单核模式，确保通话的时候省电\")\n",
    "        #调用父类成员方式1\n",
    "        #print(f\"父类的厂商是:{Phone.producer}\")\n",
    "        #Phone.call_by_5g(self)\n",
    "\n",
    "        #方式2\n",
    "        print(f\"父类的厂商是:{super().producer}\")\n",
    "        super().call_by_5g()\n",
    "        \n",
    "        print(\"关闭cpu单核模式，确保性能\")\n",
    "\n",
    "\n",
    "phone=Myphone()\n",
    "phone.call_by_5g()\n",
    "print(phone.producer)"
   ]
  },
  {
   "cell_type": "markdown",
   "metadata": {},
   "source": [
    "### 1.7 类型注解\n",
    "def：在代码中涉及数据交互时，对数据类型进行显式说明，\n",
    "     可以帮助：pycharm等开发工具对代码类型推断协助做代码提示，\n",
    "              开发者自身做类型的标注\n",
    "\n",
    "类型注解支持：\n",
    "1. 变量的类型注解\n",
    "2. 函数（方法）的形参和返回值的类型注解\n",
    "\n",
    "变量的类型注解：\n",
    "  语法：#type:类型\n",
    "  语法：变量：类型\n",
    "\n",
    "类型注解的限制：\n",
    "仅仅是备注，并非决定性的，写错不影响程序"
   ]
  },
  {
   "cell_type": "code",
   "execution_count": 2,
   "metadata": {},
   "outputs": [],
   "source": [
    "#变量的类型注解\n",
    "\n",
    "import random,json\n",
    "#基础数据类型的注解\n",
    "val_1:int=10\n",
    "val_2:str=\"itheima\"\n",
    "var_3:bool=True\n",
    "\n",
    "#类对象类型注解\n",
    "class Student:\n",
    "    pass\n",
    "stu:Student=Student()\n",
    "\n",
    "#基础容器的类型注解\n",
    "my_list:list=[1,2,3]\n",
    "my_tuple:tuple=(1,2,3)\n",
    "my_dict: dict={\"itheima\",666}\n",
    "\n",
    "#容器类型详细注解\n",
    "my_list:list[int]=[1,2,3]\n",
    "my_tuple:tuple[int,str,bool]=(1,\"itheima\",True)\n",
    "my_dict: dict[str,int]={\"itheima\",666}\n",
    "\n",
    "#在注释中进行类型注解\n",
    "var_1=random.randint(1,10)  #type:int\n",
    "var_2=json.loads('{\"name\":\"zhangsan\"}')   #type:dict[str,str]\n",
    "def func():\n",
    "    return 10\n",
    "var_3=func()  #type:int\n",
    "\n",
    "#类型注解的限制\n",
    "var_4:int =\"itheima\"\n",
    "var_5:str=123"
   ]
  },
  {
   "cell_type": "markdown",
   "metadata": {},
   "source": [
    "## 函数方法的类型注解\n",
    "形参注解：语法： def 函数方法名（形参名：类型，形参名：类型，...）\n",
    "               pass\n",
    "\n",
    "返回值注解：语法： def 函数方法名（形参：类型，...,形参：类型） -> 返回值类型\n",
    "                    pass"
   ]
  },
  {
   "cell_type": "code",
   "execution_count": 3,
   "metadata": {},
   "outputs": [
    {
     "name": "stdout",
     "output_type": "stream",
     "text": [
      "1\n"
     ]
    }
   ],
   "source": [
    "#对形参进行类型注解\n",
    "def add(x:int,y:int):\n",
    "    return x+y\n",
    "\n",
    "#对返回值注解\n",
    "def func(data:list) -> list: \n",
    "    return data\n",
    "\n",
    "print(func(1))"
   ]
  },
  {
   "cell_type": "markdown",
   "metadata": {},
   "source": [
    "## Union类型的联合注解\n",
    "Union类型：语法：union[类型，...， 类型]\n",
    "           ps：在变量注解，函数（方法）形参和返回值注解中，均可使用"
   ]
  },
  {
   "cell_type": "code",
   "execution_count": null,
   "metadata": {},
   "outputs": [],
   "source": [
    "#使用Union类型，必须先导包\n",
    "from typing import Union\n",
    "\n",
    "my_list:list[Union[int,str]]=[1,2,\"itheima\",\"itcast\"]\n",
    "\n",
    "def func(data:Union[int,str]) -> Union[int,str]:\n",
    "    pass\n",
    "func()"
   ]
  },
  {
   "cell_type": "markdown",
   "metadata": {},
   "source": [
    "3. 面向对象特性：多态\n",
    "多态：def：多种状态（完成同一个行为时，使用不同的对象会得到不同的状态）\n",
    "          同样的行为（函数），传入不同的对象，得到不同的状态\n",
    "         以父类做定义声明-以子类做实际工作-用以获得同一行为，不同状态\n",
    "\n",
    "\n",
    "抽象类接口：设计含义：父类用来确定有哪些方法-具体的方法实现，由子类自行决定 这种写法叫做抽象类\n",
    "           抽象类：含有抽象方法的类\n",
    "                  好比定义一个标准，包含一些抽象方法，要求子类必须实现\n",
    "                  配合多态完成：\n",
    "                             抽象的父类设计（设计标准）\n",
    "                             具体的子类实现（实现标准）\n",
    "                 作用：多用于顶层设计（设计标准），以便子类做具体实现\n",
    "                      对子类的一种软性约束，要求子类必须复写（实现）父类的一些方法，配合多态去使用\n",
    "           抽象方法：方法体是空实现的（pass）\n",
    "           "
   ]
  },
  {
   "cell_type": "code",
   "execution_count": 4,
   "metadata": {},
   "outputs": [
    {
     "name": "stdout",
     "output_type": "stream",
     "text": [
      "汪汪汪\n",
      "喵喵喵\n"
     ]
    }
   ],
   "source": [
    "#面相对象的多态特性以及抽象类（接口）的使用\n",
    "\n",
    "class Animal:\n",
    "    def speak(self):\n",
    "        pass\n",
    "\n",
    "class Dog(Animal):\n",
    "    def speak(self):\n",
    "        print(\"汪汪汪\")\n",
    "\n",
    "class Cat(Animal):\n",
    "    def speak(self):\n",
    "        print(\"喵喵喵\")\n",
    "\n",
    "def make_noise(animal:Animal):\n",
    "    #制造点噪音，需要传入Animal对象\n",
    "    animal.speak()\n",
    "\n",
    "#演示多态，使用2个子类对象进行调用函数\n",
    "dog=Dog()\n",
    "cat=Cat()\n",
    "\n",
    "make_noise(dog)\n",
    "make_noise(cat)"
   ]
  },
  {
   "cell_type": "code",
   "execution_count": 5,
   "metadata": {},
   "outputs": [
    {
     "name": "stdout",
     "output_type": "stream",
     "text": [
      "美的空调制冷\n",
      "格里空调制冷\n"
     ]
    }
   ],
   "source": [
    "#抽象类\n",
    "class AC:  #顶层设计\n",
    "    def cool_wind(self):\n",
    "        \"\"\"制冷\"\"\"\n",
    "        pass\n",
    "\n",
    "    def hot_wind(self):\n",
    "        \"\"\"制热\"\"\"\n",
    "        pass\n",
    "\n",
    "    def swing_l_r(self):\n",
    "        \"\"\"左右摆风\"\"\"\n",
    "        pass\n",
    "\n",
    "class Midea_AC(AC):\n",
    "    def cool_wind(self):\n",
    "        print(\"美的空调制冷\")\n",
    "\n",
    "    def hot_wind(self):\n",
    "        print(\"美的空调制热\")\n",
    "\n",
    "    def swing_l_r(self):\n",
    "        print(\"美的空调左右摆风\")\n",
    "\n",
    "class GREE_AC(AC):\n",
    "    def cool_wind(self):\n",
    "        print(\"格里空调制冷\")\n",
    "\n",
    "    def hot_wind(self):\n",
    "        print(\"格里空调制热\")\n",
    "\n",
    "    def swing_l_r(self):\n",
    "        print(\"格里空调左右摆风\")\n",
    "\n",
    "def make_cool(ac:AC):\n",
    "    ac.cool_wind()\n",
    "\n",
    "midea_ac=Midea_AC()\n",
    "gree_ac=GREE_AC()\n",
    "\n",
    "make_cool(midea_ac)\n",
    "make_cool(gree_ac)\n"
   ]
  },
  {
   "cell_type": "code",
   "execution_count": null,
   "metadata": {},
   "outputs": [],
   "source": [
    "#综合案例：文件读取\n",
    "#某公司有2份数据文件，现需要对其进行分析处理，计算每日销售额并以柱状图表的形式进行展示"
   ]
  },
  {
   "cell_type": "code",
   "execution_count": null,
   "metadata": {},
   "outputs": [],
   "source": [
    "#eg\n",
    "#1.设计一个类，完成数据的封装\n",
    "#2.设计一个抽象类，定义文件读取的相关功能，并使用子类实现具体功能\n",
    "#3.读取文件，生产数据对象\n",
    "#4.进行数据需求的逻辑计算（计算每一天的销售额）\n",
    "#5.通过pyecharts进行图形绘制\n",
    "\n",
    "from file_define import FileReader, TextFileReader,JsonFileReader\n",
    "from data_define import Record\n",
    "from pyecharts.charts import Bar\n",
    "from pyecharts.options import*\n",
    "from pyecharts.globals import ThemeType\n",
    "\n",
    "text_file_reader=TextFileReader(\"/Users/miki/pythonlearn/第二阶段/第一章/2011年1月销售数据.txt\")\n",
    "json_file_reader=JsonFileReader(\"/Users/miki/pythonlearn/第二阶段/第一章/2011年2月销售数据JSON.txt\")\n",
    "\n",
    "jan_data:list[Record]=text_file_reader.read_data()\n",
    "feb_data:list[Record]=text_file_reader.read_data()\n",
    "#将两个月的数据合并为1个list存储\n",
    "all_data:list[Record] = jan_data + feb_data\n",
    "\n",
    "#开始进行数据计算\n",
    "#{\"2011-01-01\":1234,\"2011-01-02\":300,\"2011-01-03\":650}\n",
    "data_dict={}\n",
    "for record in all_data:\n",
    "    if record.data in data_dict.keys():\n",
    "        #当前日期已经有记录了，所以和老记录做累加即可\n",
    "        data_dict[record.data] +=record.money\n",
    "    else:\n",
    "        data_dict[record.data] = record.money\n",
    "\n",
    "#可视化图表开发\n",
    "bar=Bar(init_opts=InitOpts(theme=ThemeType.LIGHT))#构建一个类对象通过Bar\n",
    "\n",
    "bar.add_xaxis(list(data_dict.keys()))   #添加x轴的数据\n",
    "bar.add_yaxis(\"销售额\", list(data_dict.values()), label_opts= LabelOpts(is_show=False))   #添加y轴的数据\n",
    "bar.set_global_opts(\n",
    "    title_opts=TitleOpts(title=\"每日销售额\")\n",
    ")\n",
    "\n",
    "bar.render_notebook()"
   ]
  },
  {
   "cell_type": "code",
   "execution_count": 6,
   "metadata": {},
   "outputs": [],
   "source": [
    "from file_define import FileReader, TextFileReader,JsonFileReader\n",
    "from data_define import Record\n",
    "from pymysql import Connection\n",
    "\n",
    "text_file_reader=TextFileReader(\"/Users/miki/pythonlearn/第二阶段/第一章/2011年1月销售数据.txt\")\n",
    "json_file_reader=JsonFileReader(\"/Users/miki/pythonlearn/第二阶段/第一章/2011年2月销售数据JSON.txt\")\n",
    "\n",
    "jan_data:list[Record]=text_file_reader.read_data()\n",
    "feb_data:list[Record]=text_file_reader.read_data()\n",
    "#将两个月的数据合并为1个list存储\n",
    "all_data:list[Record] = jan_data + feb_data\n",
    "\n",
    "#构建mysql链接对象\n",
    "conn=Connection(\n",
    "    host=\"localhost\", #主机名（ip）\n",
    "    port=3306,    #端口\n",
    "    user=\"root\",   #账户\n",
    "    password=\"Meimei617!\", #密码\n",
    "    autocommit=True      #设置自动确认\n",
    ")\n",
    " #获得游标对象\n",
    "cursor=conn.cursor() \n",
    "#选择数据库\n",
    "conn.select_db(\"py_sql\")\n",
    "#组织sql语句\n",
    "for record in all_data:\n",
    "    sql = f\"INSERT INTO orders(order_date, order_id, money, province) VALUES ('{record.data}', '{record.order_id}', {record.money}, '{record.province}')\"\n",
    "    #执行sql语句\n",
    "    cursor.execute(sql)\n",
    "\n",
    "\n",
    "    \n",
    "#关闭mysql链接对象\n",
    "conn.close()"
   ]
  }
 ],
 "metadata": {
  "kernelspec": {
   "display_name": "Python 3",
   "language": "python",
   "name": "python3"
  },
  "language_info": {
   "codemirror_mode": {
    "name": "ipython",
    "version": 3
   },
   "file_extension": ".py",
   "mimetype": "text/x-python",
   "name": "python",
   "nbconvert_exporter": "python",
   "pygments_lexer": "ipython3",
   "version": "3.12.7"
  }
 },
 "nbformat": 4,
 "nbformat_minor": 2
}
