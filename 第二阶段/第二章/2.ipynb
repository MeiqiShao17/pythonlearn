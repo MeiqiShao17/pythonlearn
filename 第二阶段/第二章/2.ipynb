{
 "cells": [
  {
   "cell_type": "markdown",
   "metadata": {},
   "source": [
    "## 2 SQL\n",
    "语法特征：1. sql语言，大小写不敏感  2. 可以单行or多行书写，最后以；结束\n",
    "        3.sql支持注释：\n",
    "        单行注释：-- 注释内容（--后面一定有一个空格）\n",
    "                 # 注释内容（#后面可以不加空格，推荐加上）\n",
    "数据库：数据存储的库，作用：组织数据并存储数据\n",
    "       如何组织数据：库-表-数据\n",
    "分类：DDL：数据定义，库的创建和删除，表的创建和删除\n",
    "     DML:数据操作\n",
    "     DCL：数据控制\n",
    "     DQL：数据查询"
   ]
  },
  {
   "cell_type": "markdown",
   "metadata": {},
   "source": [
    "## DDL库管理\n",
    "查看数据库： show databases\n",
    "使用数据库：use 数据库名称\n",
    "创建数据库：create database 数据库名称[CHARST UTF8]\n",
    "删除数据库：DROP DATABASE 数据库名称：\n",
    "查看当前使用的数据库：SELECT DATABASE（）；\n",
    "\n",
    "DDL 表管理\n",
    "查看表： show tables； 注意；需要先选择数据库\n",
    "删除表： drop table 表名称；\n",
    "        drop table if exists 表名称；\n",
    "创建表：create table 表名称（\n",
    "            列名称 列类型，\n",
    "            列名称，列类型，\n",
    "            ...\n",
    "            ）；\n",
    "\n",
    "列类型：int --整数\n",
    "float  --浮点数\n",
    "varchar --长度(长度最大255)\n",
    "date  --日期类型\n",
    "timestamp  --时间戳类型"
   ]
  },
  {
   "cell_type": "markdown",
   "metadata": {},
   "source": [
    "## DML 数据操作语言，data manipulation language，\n",
    "作用：对数据库中表的数据记录进行更新\n",
    "关键字：\n",
    "1. 插入INSERT：基础语法：INSERT INTO 表[(列1，列2，...)] VALUE(值1，值2，...)[,(值1，值2，...),...,(值1, 值2,...)]\n",
    "2. 数据删除DELETE：基础语法： DELETE FROM 表名称 [WHERE 条件判断]\n",
    "                  条件判断：列 操作符 值\n",
    "                  操作符 = < > >= <=\n",
    "3. 数据更新UPDATE：基础语法： UPDATE 表名 SET 列=值 [where 条件判断]；\n",
    "                 ps：字符串的值必须要单引号写"
   ]
  },
  {
   "cell_type": "markdown",
   "metadata": {},
   "source": [
    "### DQL 基础数据查询\n",
    "基础数据查询：SELECT关键字开头的SQL语句，进行数据的查询\n",
    "            基础语法 ：SELECT 字段列表|*FROM表\n",
    "            含义：从from表中，选择（SELECT）某些列进行展示\n",
    "\n",
    "            过滤：SELECT 字段列表|* FROM 表 WHERE 条件判断\n",
    "\n",
    "分组聚合：eg：统计班级中，男生和女生的人数 这种需求需要：按性别分组，统计每个组的人数--分组聚合 \n",
    "         基础语法：SELECT 字段列表|* FROM 表 [WHERE 条件判断] GROUP BY 列\n",
    "         聚合函数：- SUM（列） 求和\n",
    "                 - AVG（列） 求平均值\n",
    "                 - MIN（列）求最小值\n",
    "                 -MAX（列）求最大值\n",
    "                 — COUNT（列|*）求数量\n",
    "        ps:GROUP BY中出现哪个列，哪个列才能出现在SELECT中的非聚合\n",
    "\n",
    "排页和分页：结果查询：使用ORDER BY 关键字对指定某个列进行排序\n",
    "                   语法：SELECT 列|聚合函数｜* FROM表\n",
    "                        WHERE ...\n",
    "                        GROUP BY...\n",
    "                        ORDER BY ...[ASC|DESC]  #asc:从小到大排序，desc：从大到小排序\n",
    "                        #结果分页限制\n",
    "                        LIMIRT n[,m] #eg 10,5 跳过10，从11开始取五条数据\n",
    "                        ps：必须按照以上的顺序"
   ]
  },
  {
   "cell_type": "markdown",
   "metadata": {},
   "source": [
    "### python和mysql\n",
    "创建到mysql的数据库链接\n",
    "数据插入"
   ]
  },
  {
   "cell_type": "code",
   "execution_count": 4,
   "metadata": {},
   "outputs": [],
   "source": [
    "#pymysql的基础操作\n",
    "\n",
    "from pymysql import Connection #导包\n",
    "\n",
    "#创建到mysql的数据库链接\n",
    "conn=Connection(\n",
    "    host=\"localhost\", #主机名（ip）\n",
    "    port=3306,    #端口\n",
    "    user=\"root\",   #账户\n",
    "    password=\"Meimei617!\" #密码\n",
    ")\n",
    "\n",
    "#print(conn.get_server_info())\n",
    "\n",
    "#执行非查询性质sql\n",
    "cursor=conn.cursor()   #获取游标对象\n",
    "#选择数据库\n",
    "conn.select_db(\"test\")\n",
    "#执行sql\n",
    "#cursor.execute(\"create table test_pymysql(id int);\")\n",
    "\n",
    "cursor.execute(\"select* from student\")\n",
    "\n",
    "results=cursor.fetchall()#查询全部结果封装到元组内\n",
    "for r in results:\n",
    "    print(r)\n",
    "#关闭链接\n",
    "conn.close()"
   ]
  },
  {
   "cell_type": "code",
   "execution_count": 9,
   "metadata": {},
   "outputs": [],
   "source": [
    "#pymysql库进行数据插入的操作\n",
    "\n",
    "from pymysql import Connection #导包\n",
    "\n",
    "#创建到mysql的数据库链接\n",
    "conn=Connection(\n",
    "    host=\"localhost\", #主机名（ip）\n",
    "    port=3306,    #端口\n",
    "    user=\"root\",   #账户\n",
    "    password=\"Meimei617!\", #密码\n",
    "    autocommit=True      #设置自动确认\n",
    ")\n",
    "\n",
    "#执行非查询性质sql\n",
    "cursor=conn.cursor()   #获取游标对象\n",
    "#选择数据库\n",
    "conn.select_db(\"world\")\n",
    "#执行sql\n",
    "cursor.execute(\"insert into student values(10002,'bob',30,'男')\")\n",
    "\n",
    "#通过commit手动确认\n",
    "#conn.commit()\n",
    "\n",
    "#关闭链接\n",
    "conn.close()"
   ]
  },
  {
   "cell_type": "code",
   "execution_count": 13,
   "metadata": {},
   "outputs": [],
   "source": [
    "#综合案例\n"
   ]
  }
 ],
 "metadata": {
  "kernelspec": {
   "display_name": "Python 3",
   "language": "python",
   "name": "python3"
  },
  "language_info": {
   "codemirror_mode": {
    "name": "ipython",
    "version": 3
   },
   "file_extension": ".py",
   "mimetype": "text/x-python",
   "name": "python",
   "nbconvert_exporter": "python",
   "pygments_lexer": "ipython3",
   "version": "3.12.7"
  }
 },
 "nbformat": 4,
 "nbformat_minor": 2
}
