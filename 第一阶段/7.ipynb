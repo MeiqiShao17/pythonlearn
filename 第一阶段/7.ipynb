{
 "cells": [
  {
   "cell_type": "markdown",
   "metadata": {},
   "source": [
    "7 函数进阶"
   ]
  },
  {
   "cell_type": "code",
   "execution_count": null,
   "metadata": {},
   "outputs": [],
   "source": [
    "7.1 函数的多返回值\n",
    "定义： 按照返回值的顺序，写对应顺序的多个变量接收即可  \n",
    "      变量之间用逗号隔开\n",
    "      支持不同类型的数据return\n",
    "\n",
    "def test_return():\n",
    "    return 1,2\n",
    "\n",
    "x,y=test_return()\n",
    "print(x)   #结果1\n",
    "print(y)   #结果2"
   ]
  },
  {
   "cell_type": "code",
   "execution_count": 4,
   "metadata": {},
   "outputs": [
    {
     "name": "stdout",
     "output_type": "stream",
     "text": [
      "1\n",
      "hello\n",
      "3\n"
     ]
    }
   ],
   "source": [
    "#函数的多返回值\n",
    "def test_return():\n",
    "    return 1,\"hello\",3\n",
    "\n",
    "x,y,z=test_return()\n",
    "print(x)   #结果1\n",
    "print(y)   #结果2\n",
    "print(z)"
   ]
  },
  {
   "cell_type": "markdown",
   "metadata": {},
   "source": [
    "7.2函数的多种参数使用\n",
    "\n",
    "函数的参数种类：\n",
    "             位置参数：调用函数时根据函数定义的参数位置来传递参数\n",
    "                      ps：传递的参数和定义的参数顺序及个数必须一致\n",
    "\n",
    "            关键字参数：函数调用可以通过“键=值”形式传递函数\n",
    "                      作用：函数更清晰，容易使用，清楚参数的顺序需求\n",
    "                      ps：若有位置参数，位置参数必须在关键字参数前，但关键字参数之间不存在先后顺序\n",
    "\n",
    "            缺省参数：默认参数，用于定义函数，为参数提供默认值，调用函数时可不传该默认参数的值\n",
    "                     ps：所有位置参数必须出现在默认参数前，包括函数定义和调用\n",
    "                     作用：当调用函数时没有传递参数，默认使用缺省参数对应的值\n",
    "            \n",
    "            不定长参数：可变参数，用于不确定调用的时候会传递多少个参数（不传参也可以）的场景\n",
    "                      作用：调用函数时不确定参数个数时，可以使用不定长参数\n",
    "                      类型：1.位置传递：def：传递的所有参数被args变量收集，根据传进参数的位置合并为一个元组（tuple），\n",
    "                                          args时元组类型（*args）\n",
    "                           2.关键字传递：def：参数是“键=值”形式的情况下，所有“键=值”都会被kwargs接收，根据“键=值”组成字典\n",
    "                                            （**kwargs）\n",
    "                      位置不定长 ，*号\n",
    "                          \n",
    "            \n"
   ]
  },
  {
   "cell_type": "code",
   "execution_count": 15,
   "metadata": {},
   "outputs": [
    {
     "name": "stdout",
     "output_type": "stream",
     "text": [
      "姓名是:tom, 年龄是:20,性别是:男\n",
      "姓名是:miki, 年龄是:20,性别是:男\n",
      "姓名是:lucy, 年龄是:9,性别是:male\n",
      "姓名是:lucy, 年龄是:13,性别是:male\n",
      "args参数的类型是:<class 'tuple'>,内容是:(1, 2, 3)\n",
      "kwargs参数的类型是:<class 'dict'>,内容是:{'name': 'tom', 'age': 11, 'gender': 'male', 'addr': 'tokey'}\n"
     ]
    }
   ],
   "source": [
    "#传参的形式\n",
    "\n",
    "def user_info(name,age,gender):\n",
    "    print(f\"姓名是:{name}, 年龄是:{age},性别是:{gender}\")\n",
    "\n",
    "#位置参数——默认使用形式\n",
    "user_info('tom',20,'男')\n",
    "\n",
    "#关键字参数 可以不按照参数的定义顺序传参\n",
    "user_info(age='20',name='miki',gender='男')\n",
    "user_info('lucy',gender='male',age=9)\n",
    "\n",
    "#缺省参数 设置默认值 只能在最后\n",
    "def user_info(name,age,gender='male'):\n",
    "    print(f\"姓名是:{name}, 年龄是:{age},性别是:{gender}\")\n",
    "\n",
    "user_info('lucy',13)\n",
    "\n",
    "#不定长  位置不定长  *\n",
    "#不定长定义的形式参数会作为元组存在，接收不定长数量的参数传入\n",
    "def user_info(*args):\n",
    "    print(f\"args参数的类型是:{type(args)},内容是:{args}\")\n",
    "\n",
    "user_info(1,2,3)\n",
    "\n",
    "#不定长--位置不定长，**号\n",
    "def user_info(**kwargs):#keywoedk wa\n",
    "    print(f\"kwargs参数的类型是:{type(kwargs)},内容是:{kwargs}\")\n",
    "\n",
    "user_info(name='tom',age=11,gender='male',addr='tokey')\n"
   ]
  },
  {
   "cell_type": "markdown",
   "metadata": {},
   "source": [
    "7.3 匿名函数\n",
    "函数作为参数传递：计算逻辑的传递，不是数据的传递；任何逻辑都可自行定义并作为函数传入\n"
   ]
  },
  {
   "cell_type": "code",
   "execution_count": 19,
   "metadata": {},
   "outputs": [
    {
     "name": "stdout",
     "output_type": "stream",
     "text": [
      "coumpte的类型是:<class 'function'>\n",
      "计算结果:3\n"
     ]
    }
   ],
   "source": [
    "#函数的参数传递\n",
    "\n",
    "#定义一个函数，接收另一个函数作为传入函数\n",
    "def test_func(compute):\n",
    "    result=compute(1,2) #确定compute是函数\n",
    "    print(f\"coumpte的类型是:{type(compute)}\")\n",
    "    print(f\"计算结果:{result}\")\n",
    "\n",
    "#定义一个函数，准备作为参数传入另一个函数\n",
    "def compute(x,y):\n",
    "    return x+y\n",
    "\n",
    "#调用，并传入函数\n",
    "test_func(compute)\n",
    "    \n"
   ]
  },
  {
   "cell_type": "markdown",
   "metadata": {},
   "source": [
    "lambda匿名函数：\n",
    "函数定义：def  带有名称的函数  基于名称重复使用\n",
    "        lambda  定义匿名函数（无名称） 临时使用一次\n",
    "\n",
    "lambda定义语法：lambda 传入参数：函数体（一行代码）\n",
    "               lambda是关键字，表示定义匿名函数\n",
    "               传入参数 匿名函数的形式参数 如：x，y表示接收2个形式参数\n",
    "               函数体：函数执行逻辑，只能写一行，无法多行代码"
   ]
  },
  {
   "cell_type": "code",
   "execution_count": 20,
   "metadata": {},
   "outputs": [
    {
     "name": "stdout",
     "output_type": "stream",
     "text": [
      "3\n"
     ]
    }
   ],
   "source": [
    "##定义一个函数，接收另一个函数作为传入函数\n",
    "def test_func(compute):\n",
    "    result=compute(1,2)\n",
    "    print(f\"结果是:{result}\")\n",
    "\n",
    "#通过lambda匿名函数的形式，将匿名函数作为参数传入\n",
    "test_func(lambda x,y:x+y)"
   ]
  },
  {
   "cell_type": "markdown",
   "metadata": {},
   "source": []
  }
 ],
 "metadata": {
  "kernelspec": {
   "display_name": "Python 3",
   "language": "python",
   "name": "python3"
  },
  "language_info": {
   "codemirror_mode": {
    "name": "ipython",
    "version": 3
   },
   "file_extension": ".py",
   "mimetype": "text/x-python",
   "name": "python",
   "nbconvert_exporter": "python",
   "pygments_lexer": "ipython3",
   "version": "3.12.7"
  }
 },
 "nbformat": 4,
 "nbformat_minor": 2
}
