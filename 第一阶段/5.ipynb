{
 "cells": [
  {
   "cell_type": "markdown",
   "metadata": {},
   "source": [
    "5.1 函数\n",
    "已组织好的 可重复使用的 针对特定功能的代码段"
   ]
  },
  {
   "cell_type": "code",
   "execution_count": 2,
   "metadata": {},
   "outputs": [
    {
     "name": "stdout",
     "output_type": "stream",
     "text": [
      "字符串itheima的长度是:7\n",
      "字符串itheima的长度是:7\n"
     ]
    }
   ],
   "source": [
    "#统计字符串的长度 不使用内置函数\n",
    "str1=\"itheima\"\n",
    "str2=\"itcase\"\n",
    "str3=\"python\"\n",
    "\n",
    "#定义一个计数变量\n",
    "count=0\n",
    "for i in str1:\n",
    "    count+=1\n",
    "print(f\"字符串{str1}的长度是:{count}\")\n",
    "\n",
    "#使用函数进行优化\n",
    "def my_len(data):\n",
    "    count=0\n",
    "    for i in data:\n",
    "        count+=1\n",
    "    print(f\"字符串{data}的长度是:{count}\")\n",
    "    \n",
    "my_len(str1)\n",
    "\n",
    "    "
   ]
  },
  {
   "cell_type": "markdown",
   "metadata": {},
   "source": [
    "5.2 函数定义语法(先定义 后调用)（参数/返回值不需要 可以省略）\n",
    "def 函数名（传入函数）：\n",
    "    函数体\n",
    "    return 返回值\n",
    "\n",
    "调用函数\n",
    "函数名（参数）"
   ]
  },
  {
   "cell_type": "code",
   "execution_count": 4,
   "metadata": {},
   "outputs": [
    {
     "name": "stdout",
     "output_type": "stream",
     "text": [
      "hi 我是程序员\n"
     ]
    }
   ],
   "source": [
    "\n",
    "#定义一个函数，输出相关信息\n",
    "def say_hi():\n",
    "    print(\"hi 我是程序员\")\n",
    "    \n",
    "#调用函数\n",
    "say_hi()"
   ]
  },
  {
   "cell_type": "code",
   "execution_count": 5,
   "metadata": {},
   "outputs": [
    {
     "name": "stdout",
     "output_type": "stream",
     "text": [
      "欢迎来到黑马程序猿！\n",
      " 请出示核算\n"
     ]
    }
   ],
   "source": [
    "def check():\n",
    "    print(\"欢迎来到黑马程序猿！\\n 请出示核算\")\n",
    "    \n",
    "check()"
   ]
  },
  {
   "cell_type": "markdown",
   "metadata": {},
   "source": [
    "5.3函数的参数\n",
    "def：在函数进行计算的时候，接受外部（调用时）提供的数据\n",
    "def 函数名（传入函数）：\n",
    "    函数体\n",
    "    return 返回值"
   ]
  },
  {
   "cell_type": "code",
   "execution_count": 8,
   "metadata": {},
   "outputs": [
    {
     "name": "stdout",
     "output_type": "stream",
     "text": [
      "5+2+9的计算结果是：16\n"
     ]
    }
   ],
   "source": [
    "#定义相加的函数，接收被计算的两个数字\n",
    "def add(x,y,z):\n",
    "    result=x+y+z\n",
    "    print(f\"{x}+{y}+{z}的计算结果是：{result}\")\n",
    "    \n",
    "add(5,2,9)"
   ]
  },
  {
   "cell_type": "code",
   "execution_count": 9,
   "metadata": {},
   "outputs": [
    {
     "name": "stdout",
     "output_type": "stream",
     "text": [
      "欢迎 出示核酸证明配合测量体温\n",
      "体温测量中,您的体温是37.3度,正常\n"
     ]
    }
   ],
   "source": [
    "#自动查核算\n",
    "def check(num):\n",
    "    print(\"欢迎 出示核酸证明配合测量体温\")\n",
    "    if num<=37.5:\n",
    "        print(f\"体温测量中,您的体温是{num}度,正常\")\n",
    "    else:\n",
    "        print(f\"体温测量中,您的体温是{num}度,不正常\")\n",
    "        \n",
    "        \n",
    "check(37.3)"
   ]
  },
  {
   "cell_type": "markdown",
   "metadata": {},
   "source": [
    "5.4 返回值\n",
    "5.4.1 定义语法\n",
    "def 函数名（传入函数）：\n",
    "    函数体\n",
    "    return 返回值\n",
    "\n",
    "变量=函数（参数）\n",
    "\n",
    "5.4.2 None类型：空的 无实际意义的意思\n",
    "使用场景：\n",
    "用在函数无返回值上\n",
    "在if判断中 none=false\n",
    "声明无内容的变量，\n",
    "    定义变量，但暂时不需要变量有具体值，可以用none代替\n",
    "    "
   ]
  },
  {
   "cell_type": "code",
   "execution_count": 11,
   "metadata": {},
   "outputs": [
    {
     "name": "stdout",
     "output_type": "stream",
     "text": [
      "11\n"
     ]
    }
   ],
   "source": [
    "#定义一个函数，完成两数相加功能\n",
    "def add(a,b):\n",
    "    result=a+b\n",
    "    #通过返回值，将相加的结果返回给调用者\n",
    "    return result\n",
    "    #返回结果后，还想输出一句话\n",
    "    print(\"我完事了\")#return后代码就不实行了\n",
    "\n",
    "#函数的返回值可以通过变量去接收\n",
    "r=add(5,6)\n",
    "print(r)"
   ]
  },
  {
   "cell_type": "code",
   "execution_count": null,
   "metadata": {},
   "outputs": [],
   "source": [
    "#无return语句的函数返回值\n",
    "def say_hi():\n",
    "    print(\"你好\")\n",
    "    \n",
    "result=say_hi()\n",
    "print(f\"无返回值返回的内容是:{result}\")\n",
    "print(f\"无返回值返回的类型是:{type(result)}\")\n",
    "\n",
    "#主动返回none的函数\n",
    "def say_hi2():\n",
    "    print(\"你好\")\n",
    "    return None\n",
    "\n",
    "result=say_hi2()\n",
    "print(f\"无返回值返回的内容是:{result}\")\n",
    "print(f\"无返回值返回的类型是:{type(result)}\")"
   ]
  },
  {
   "cell_type": "code",
   "execution_count": 14,
   "metadata": {},
   "outputs": [
    {
     "name": "stdout",
     "output_type": "stream",
     "text": [
      "未成年，不能进入\n"
     ]
    }
   ],
   "source": [
    "#None用于if判断\n",
    "def check_age(age):\n",
    "    if age>18:\n",
    "        return \"success\"\n",
    "    else:\n",
    "        return None\n",
    "\n",
    "result=check_age(16)\n",
    "if not result:\n",
    "    #进入if 表示result是none值 也就是false\n",
    "    print(\"未成年，不能进入\")"
   ]
  },
  {
   "cell_type": "code",
   "execution_count": null,
   "metadata": {},
   "outputs": [],
   "source": [
    "#None用于声明无初始内容的变量\n",
    "name=None"
   ]
  },
  {
   "cell_type": "markdown",
   "metadata": {},
   "source": [
    "5.5 函数说明文档\n",
    "用法：通过多行注释 内容写在函数体之前\n",
    "def func（x，y）：\n",
    "    \"\"\"\n",
    "    函数说明\n",
    "    ：param x：形参x的说明\n",
    "    ：param y：形参y的说明\n",
    "    ：return：返回值的说明\n",
    "    \"\"\"\n",
    "    函数体\n",
    "    return 返回值"
   ]
  },
  {
   "cell_type": "code",
   "execution_count": null,
   "metadata": {},
   "outputs": [],
   "source": [
    "#定义函数进行文档说明\n",
    "def add(x,y):\n",
    "    \"\"\"add函数可以接收2个参数,2数相加的功能\n",
    "\n",
    "    Args:\n",
    "        x (_type_): 形参x表示相加的其中一个数字\n",
    "        y (_type_): 形参y表示相加的另一个数字\n",
    "\n",
    "    Returns:\n",
    "        _type_: 两数相加的结果\n",
    "    \"\"\"\n",
    "    result=x+y\n",
    "    print(f\"2数相加的结果是:{result}\")\n",
    "    return result\n",
    "\n",
    "add(5,6)\n"
   ]
  },
  {
   "cell_type": "markdown",
   "metadata": {},
   "source": [
    "5.6函数的嵌套调用\n"
   ]
  },
  {
   "cell_type": "code",
   "execution_count": 15,
   "metadata": {},
   "outputs": [
    {
     "name": "stdout",
     "output_type": "stream",
     "text": [
      "---1---\n",
      "---2---\n",
      "---3---\n"
     ]
    }
   ],
   "source": [
    "#定义函数func_b\n",
    "def func_b():\n",
    "    print(\"---2---\")\n",
    "#定义函数func_a,并在内部调用func_b\n",
    "def func_a():\n",
    "    print(\"---1---\")\n",
    "    \n",
    "    #嵌套调用func_b\n",
    "    func_b()\n",
    "    \n",
    "    print(\"---3---\")\n",
    "\n",
    "#调用func_a\n",
    "func_a()"
   ]
  },
  {
   "cell_type": "markdown",
   "metadata": {},
   "source": [
    "5.7变量的作用域\n",
    "局部变量：函数体的内部生效\n",
    "全局变量：函数体内外都能使用\n",
    "\n",
    "global关键字"
   ]
  },
  {
   "cell_type": "code",
   "execution_count": null,
   "metadata": {},
   "outputs": [],
   "source": [
    "#局部变量\n",
    "def test_a():\n",
    "    num=200\n",
    "    print(num)\n",
    "    \n",
    "test_a()\n",
    "#出了函数体，局部变量就无法使用\n",
    "print(num)"
   ]
  },
  {
   "cell_type": "code",
   "execution_count": 16,
   "metadata": {},
   "outputs": [
    {
     "name": "stdout",
     "output_type": "stream",
     "text": [
      "test_a:300\n",
      "test_b:300\n",
      "300\n"
     ]
    }
   ],
   "source": [
    "#全局变量\n",
    "num=300\n",
    "\n",
    "def test_a():\n",
    "    print(f\"test_a:{num}\")\n",
    "    \n",
    "def test_b():\n",
    "    print(f\"test_b:{num}\")\n",
    "    \n",
    "test_a()\n",
    "test_b()\n",
    "\n",
    "print(num)"
   ]
  },
  {
   "cell_type": "code",
   "execution_count": 18,
   "metadata": {},
   "outputs": [
    {
     "name": "stdout",
     "output_type": "stream",
     "text": [
      "test_a:300\n",
      "test_b:500\n",
      "500\n"
     ]
    }
   ],
   "source": [
    "#在函数内修改全局变量 global关键字\n",
    "num=300\n",
    "\n",
    "def test_a():\n",
    "    print(f\"test_a:{num}\")\n",
    "    \n",
    "def test_b():\n",
    "    #global关键字声明a是全局变量\n",
    "    global num\n",
    "    num=500\n",
    "    print(f\"test_b:{num}\")\n",
    "    \n",
    "test_a()\n",
    "test_b()\n",
    "\n",
    "print(num)"
   ]
  },
  {
   "cell_type": "markdown",
   "metadata": {},
   "source": [
    "5.8 函数综合案例 atm"
   ]
  },
  {
   "cell_type": "code",
   "execution_count": 21,
   "metadata": {},
   "outputs": [
    {
     "name": "stdout",
     "output_type": "stream",
     "text": [
      "------主菜单------\n",
      "miki,您好欢迎来到atm,请选择您的操作:\n",
      "查询余额\t[输入1]\n",
      "存款\t[输入2]\n",
      "取款\t[输入3]\n",
      "退出\t[输入4]\n",
      "程序退出\n"
     ]
    }
   ],
   "source": [
    "#atm\n",
    "#定义全局变量\n",
    "money=5000000\n",
    "name=None\n",
    "#要求顾客输入姓名\n",
    "name=input(\"请输入您的姓名：\")\n",
    "#定义查询函数\n",
    "def query(show_header):\n",
    "    if show_header:\n",
    "        print(\"-----查询余额-----\")\n",
    "    print(f\"{name},您好,您的余额剩余：{money}元\")\n",
    "#定义存款函数\n",
    "def saving(num):\n",
    "    global money\n",
    "    money+=num\n",
    "    print(\"---存款---\")\n",
    "    print(f\"{name}, 您好, 您存款{num}元成功。\")\n",
    "    \n",
    "    #调用query函数\n",
    "    query(False)\n",
    "    \n",
    "#定义取款函数\n",
    "def get_money():\n",
    "    global money\n",
    "    money_=num\n",
    "    print(\"---取款---\")\n",
    "    print(f\"{name}, 您好, 您取款{num}元成功。\")\n",
    "    \n",
    "    #调用query函数查询余额\n",
    "    query(False)\n",
    "#定义主菜单函数 \\t对齐输出\n",
    "def main():\n",
    "    print(\"------主菜单------\")\n",
    "    print(f\"{name},您好欢迎来到atm,请选择您的操作:\")\n",
    "    print(\"查询余额\\t[输入1]\")\n",
    "    print(\"存款\\t[输入2]\")\n",
    "    print(\"取款\\t[输入3]\")\n",
    "    print(\"退出\\t[输入4]\")\n",
    "    return input(\"请输入您的选择：\")\n",
    "#设置无限循环，确保程序不退出\n",
    "while True:\n",
    "    keyboard_input=main()\n",
    "    if keyboard_input==\"1\":\n",
    "        query(True)\n",
    "        continue #通过continue 继续下一次循环，一进来就是主菜单\n",
    "    elif keyboard_input==\"2\":\n",
    "        num=int(input(\"您想要存多少钱？请输入：\"))\n",
    "        saving(num)\n",
    "        continue\n",
    "    elif keyboard_input==\"3\":\n",
    "        num=int(input(\"您想要取多少钱？请输入：\"))\n",
    "        get_money(num)\n",
    "        continue\n",
    "    else:\n",
    "        print(\"程序退出\")\n",
    "        break#退出循环\n"
   ]
  }
 ],
 "metadata": {
  "kernelspec": {
   "display_name": "Python 3",
   "language": "python",
   "name": "python3"
  },
  "language_info": {
   "codemirror_mode": {
    "name": "ipython",
    "version": 3
   },
   "file_extension": ".py",
   "mimetype": "text/x-python",
   "name": "python",
   "nbconvert_exporter": "python",
   "pygments_lexer": "ipython3",
   "version": "3.12.7"
  }
 },
 "nbformat": 4,
 "nbformat_minor": 2
}
