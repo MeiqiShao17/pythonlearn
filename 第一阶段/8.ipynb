{
 "cells": [
  {
   "cell_type": "markdown",
   "metadata": {},
   "source": [
    "# 8 文件操作\n",
    "## 8.1 文件的编码 UTF-8 主流\n",
    "## 8.2 文件的读取操作\n",
    "### open（）打开函数：\n",
    "def：打开一个已经存在的文件，创建一个新文件  \n",
    "语法：open(name,mode,encoding)  \n",
    "      name:打开的目标文件名的字符串（可以包含文件所在的具体路径）\n",
    "      mode: 设置打开文件的模式（访问模式）：只读（r），写入（w），追加（a）\n",
    "      encoding:编码格式  \n",
    "\n",
    "读操作相关方法：  \n",
    "read（）方法：语法：文件对象.read(num)  \n",
    "                  num:文件中读取的数据的长度（单位是字节），没有传入num，读取文件中所有的数据  \n",
    "\n",
    "readlines（）方法：按照行的方式把整个文件中的内容进行一次性读取，返回值是列表，每一行的数据为一个元素  \n",
    "\n",
    "readline（）方法：一次读取一行内容  \n",
    "\n",
    "for循环读取文件行  \n",
    "\n",
    "close（）：关闭文件对象  \n",
    "\n",
    "with open 语法：自动close\n"
   ]
  },
  {
   "cell_type": "code",
   "execution_count": 16,
   "metadata": {},
   "outputs": [
    {
     "name": "stdout",
     "output_type": "stream",
     "text": [
      "<class '_io.TextIOWrapper'>\n",
      "every line data:列表也\n",
      "\n",
      "every line data:你好啊/n\n",
      "\n",
      "every line data:python\n"
     ]
    }
   ],
   "source": [
    "#对文件的读取\n",
    "#打开文件\n",
    "f=open(\"/Users/miki/1/list.txt\", \"r\", encoding=\"UTF-8\")\n",
    "print(type(f))\n",
    "\n",
    "#读取文件--read（）\n",
    "#print(f\"读取2个字节的结果是:{f.read(2)}\")\n",
    "#print(f\"read方法读取全部内容结果是:{f.read()}\") #读取多次 从上回结果之后开始读\n",
    "#print(\"--------------------\")\n",
    "\n",
    "#读取文件---readlines  会续接上一个read\n",
    "#lines=f.readlines #读取文件的全部行，封装到列表中\n",
    "#print(f\"lines对象的类型是:{type(lines)}\")\n",
    "#print(f\"lines对象的内容是:{lines}\")\n",
    "\n",
    "#读取文件-readline（）\n",
    "#line1=f.readline()\n",
    "#line2=f.readline()\n",
    "#line3=f.readline()\n",
    "\n",
    "#print(f\"1:{line1}\")\n",
    "#print(f\"2:{line2}\")\n",
    "#print(f\"3:{line3}\")\n",
    "\n",
    "#for循环读取文件行\n",
    "#for line in f:\n",
    "    #print(f\"每一行数据:{line}\")\n",
    "\n",
    "#文件关闭\n",
    "#f.close()\n",
    "\n",
    "#with open语法操作文件\n",
    "with open(\"/Users/miki/1/list.txt\", \"r\", encoding=\"UTF-8\") as f:\n",
    "    for line in f:\n",
    "        print(f\"every line data:{line}\")\n"
   ]
  },
  {
   "cell_type": "code",
   "execution_count": 21,
   "metadata": {},
   "outputs": [
    {
     "name": "stdout",
     "output_type": "stream",
     "text": [
      "['itheima', 'itcast', 'python']\n",
      "['itheima', 'python', 'itcast']\n",
      "['beijing', 'shanghai', 'itheima']\n",
      "['shenzhen', 'guangzhou', 'itheima']\n",
      "['wuhan', 'hangzhou', 'itheima']\n",
      "['zhengzhou', 'bigdata', 'itheima']\n",
      "itheima出现的次数:6\n"
     ]
    }
   ],
   "source": [
    "#eg 单词计数\n",
    "f=open(\"/Users/miki/1/list.txt\", \"r\", encoding=\"UTF-8\")\n",
    "\n",
    "#方式1 读取全部内容，通过字符串count方法统计itheima单词的量\n",
    "#content=f.read()\n",
    "#count=content.count(\"itheima\")\n",
    "#print(f\"itheima在文件中出现了:{count}\")\n",
    "\n",
    "#方式2:读取内容，一行一行读取\n",
    "count=0 #使用count变量来累计itheima出现的次数\n",
    "for line in f:\n",
    "    line=line.strip()#去除开头和结尾的空格以及换行符\n",
    "    words=line.split(\" \")\n",
    "    print(words)\n",
    "    for word in words:\n",
    "        if word==\"itheima\":\n",
    "            count+=1  #如果单词是itheima，进行数量的累加加1\n",
    "\n",
    "#判断单词出现次数并累计\n",
    "print(f\"itheima出现的次数:{count}\")\n",
    "#关闭文件\n",
    "f.close()\n"
   ]
  },
  {
   "cell_type": "markdown",
   "metadata": {},
   "source": [
    "# 8.3 文件的写入操作  \n",
    "1. 文件写入：f.write('hello world') 写内存的\n",
    "2. 内容刷新：f.flush() 将内存中的内容真正写到硬盘中\n"
   ]
  },
  {
   "cell_type": "code",
   "execution_count": 6,
   "metadata": {},
   "outputs": [],
   "source": [
    "#文件的写入\n",
    "\n",
    "#打开文件，不存在的文件\n",
    "import time\n",
    "\n",
    "f=open(\"/Users/miki/1/test.txt\", \"w\", encoding=\"UTF-8\")\n",
    "\n",
    "#write写入\n",
    "f.write(\"hellp world!\")\n",
    "\n",
    "#flush刷新  \n",
    "#f.flush()   #将内存中积攒的内容写入到硬盘中\n",
    "\n",
    "#close关闭\n",
    "f.close()    #close方法，内置了flush的功能"
   ]
  },
  {
   "cell_type": "code",
   "execution_count": 7,
   "metadata": {},
   "outputs": [],
   "source": [
    "#打开一个存在的文件\n",
    "f=open(\"/Users/miki/1/test.txt\", \"w\", encoding=\"UTF-8\")\n",
    "\n",
    "#write写入，flush刷新  \n",
    "f.write(\"programmer\")#内容清空 再写入\n",
    "f.close()"
   ]
  },
  {
   "cell_type": "markdown",
   "metadata": {},
   "source": [
    "8.4 文件的追加写入操作 add"
   ]
  },
  {
   "cell_type": "code",
   "execution_count": 8,
   "metadata": {},
   "outputs": [],
   "source": [
    "#文件追加写入\n",
    "#打开文件，不存在的文件\n",
    "f=open(\"/Users/miki/1/test.txt\", \"a\", encoding=\"UTF-8\")\n",
    "#write写入\n",
    "f.write(\"programmer\")\n",
    "#flush刷新\n",
    "f.flush() \n",
    "f.close()\n"
   ]
  },
  {
   "cell_type": "code",
   "execution_count": 10,
   "metadata": {},
   "outputs": [],
   "source": [
    "#打开一个存在的文件\n",
    "f=open(\"/Users/miki/1/test.txt\", \"a\", encoding=\"UTF-8\")\n",
    "#write写入，flush刷新\n",
    "f.write(\"\\nhello\")\n",
    "f.flush() \n",
    "#close关闭\n",
    "f.close()"
   ]
  },
  {
   "cell_type": "markdown",
   "metadata": {},
   "source": [
    "8.5 文件操作的综合"
   ]
  },
  {
   "cell_type": "code",
   "execution_count": 11,
   "metadata": {},
   "outputs": [],
   "source": [
    "#读取文件\n",
    "fr=open(\"/Users/miki/1/bill.txt\", \"r\", encoding=\"UTF-8\")\n",
    "f.close()\n",
    "\n",
    "#文件写出到bill.txt.bak文件进行备份\n",
    "fw=open(\"/Users/miki/1/bill.txt.bak\", \"w\", encoding=\"UTF-8\")\n",
    "\n",
    "#将文件内标记为测试的数据行进行丢弃\n",
    "#实现方法：for循环内容，判断是否是测试，不是测试就write写出，是测试就跳过\n",
    "for line in fr:\n",
    "    line=line.strip()\n",
    "    #判断内容，将满足的内容写出\n",
    "    if line.split(\",\")[4]==\"测试\":\n",
    "        continue   #continue进入下一次循环，这一次后面的内容就跳过了\n",
    "    #将内容写出去\n",
    "    fw.write(line)\n",
    "    #由于前面对内容进行strip（）的操作，所以要手动的写出换行符\n",
    "    fw.write(\"\\n\")\n",
    "    \n",
    "   \n",
    "fr.close()\n",
    "fw.close()   #写出文件调用close（）会自动flush（）"
   ]
  }
 ],
 "metadata": {
  "kernelspec": {
   "display_name": "Python 3",
   "language": "python",
   "name": "python3"
  },
  "language_info": {
   "codemirror_mode": {
    "name": "ipython",
    "version": 3
   },
   "file_extension": ".py",
   "mimetype": "text/x-python",
   "name": "python",
   "nbconvert_exporter": "python",
   "pygments_lexer": "ipython3",
   "version": "3.12.7"
  }
 },
 "nbformat": 4,
 "nbformat_minor": 2
}
