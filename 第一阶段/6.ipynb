{
 "cells": [
  {
   "cell_type": "markdown",
   "metadata": {},
   "source": [
    "6 数据容器\n",
    "6.1 数据容器入门\n",
    "数据容器：可以容纳多份数据的数据类型，可以是任意的数据\n",
    "分类：list（列表）turple（元组）str（字符串）set（集合）dict（字典）"
   ]
  },
  {
   "cell_type": "markdown",
   "metadata": {},
   "source": [
    "6.2列表list\n",
    "6.2.1定义：可以是不同的数据类型，支持嵌套\n",
    "#字面量\n",
    "[元素1，元素2，...]\n",
    "\n",
    "#定义变量\n",
    "变量名称=[元素1，元素2，...]\n",
    "\n",
    "#定义空列表\n",
    "变量名称=[]\n",
    "变量名称=list（）"
   ]
  },
  {
   "cell_type": "code",
   "execution_count": null,
   "metadata": {},
   "outputs": [],
   "source": [
    "#定义一个基础列表list\n",
    "my_list=[\"itheima\",\"itcast\",\"python\"]\n",
    "print(my_list)\n",
    "print(type(my_list))\n",
    "\n",
    "my_list=[\"itheima\",666,True]\n",
    "print(my_list)\n",
    "print(type(my_list))\n",
    "\n",
    "#定义一个嵌套列表\n",
    "my_list=[[1,2,3],[4,5,6]]\n",
    "print(my_list)\n",
    "print(type(my_list))"
   ]
  },
  {
   "cell_type": "markdown",
   "metadata": {},
   "source": [
    "6.2.2列表的下标索引\n",
    "从前向后：从0开始，依次递增\n",
    "#语法：列表[下标索引]\n",
    "反向从后向前（-1、-2、-3、...）\n",
    "嵌套列表\n"
   ]
  },
  {
   "cell_type": "code",
   "execution_count": null,
   "metadata": {},
   "outputs": [],
   "source": [
    "#通过下标索引取出对应位置的数据\n",
    "my_list=[\"tom\",\"lily\",\"rose\"]\n",
    "#列表[下标索引]，从前向后从0开始依次+1，从后向前从-1开始，每次-1\n",
    "print(my_list[0])\n",
    "print(my_list[1])\n",
    "print(my_list[2])#去下标索引一定不要超出范围\n",
    "\n",
    "#通过下标索引取出数据（倒序取出）\n",
    "print(my_list[-1])\n",
    "print(my_list[-2])\n",
    "print(my_list[-3])\n",
    "\n",
    "#嵌套\n",
    "my_list=[[1,2,3],[4,5,6]]\n",
    "my_list[1][1]\n",
    "\n"
   ]
  },
  {
   "cell_type": "markdown",
   "metadata": {},
   "source": [
    "6.2.3列表常用操作\n",
    "列表的方法：\n",
    "1查询功能：查找指定元素在列表的下标，如果找不到 报错valuereeor\n",
    "    语法：列表（index元素）  index列表对象（变量）内置的方法（函数）\n",
    "\n",
    "2修改功能：修改特定位置（索引）的元素值：\n",
    " 语法：列表[下标]=值\n",
    "\n",
    "3插入元素\n",
    "语法：列表.insert（下标，元素），在指定的下标位置，插入指定的元素"
   ]
  },
  {
   "cell_type": "code",
   "execution_count": 52,
   "metadata": {},
   "outputs": [
    {
     "name": "stdout",
     "output_type": "stream",
     "text": [
      "itheima在列表的下标索引值是,0\n"
     ]
    },
    {
     "ename": "ValueError",
     "evalue": "'hello' is not in list",
     "output_type": "error",
     "traceback": [
      "\u001b[0;31m---------------------------------------------------------------------------\u001b[0m",
      "\u001b[0;31mValueError\u001b[0m                                Traceback (most recent call last)",
      "Cell \u001b[0;32mIn[52], line 8\u001b[0m\n\u001b[1;32m      5\u001b[0m \u001b[38;5;28mprint\u001b[39m(\u001b[38;5;124mf\u001b[39m\u001b[38;5;124m\"\u001b[39m\u001b[38;5;124mitheima在列表的下标索引值是,\u001b[39m\u001b[38;5;132;01m{\u001b[39;00mindex\u001b[38;5;132;01m}\u001b[39;00m\u001b[38;5;124m\"\u001b[39m)\n\u001b[1;32m      7\u001b[0m \u001b[38;5;66;03m#1.2如果被查找的元素不存在，会报错\u001b[39;00m\n\u001b[0;32m----> 8\u001b[0m index\u001b[38;5;241m=\u001b[39m\u001b[43mmylist\u001b[49m\u001b[38;5;241;43m.\u001b[39;49m\u001b[43mindex\u001b[49m\u001b[43m(\u001b[49m\u001b[38;5;124;43m\"\u001b[39;49m\u001b[38;5;124;43mhello\u001b[39;49m\u001b[38;5;124;43m\"\u001b[39;49m\u001b[43m)\u001b[49m\n\u001b[1;32m      9\u001b[0m \u001b[38;5;28mprint\u001b[39m(\u001b[38;5;124mf\u001b[39m\u001b[38;5;124m\"\u001b[39m\u001b[38;5;124mhello在列表的下标索引值是,\u001b[39m\u001b[38;5;132;01m{\u001b[39;00mindex\u001b[38;5;132;01m}\u001b[39;00m\u001b[38;5;124m\"\u001b[39m)\n",
      "\u001b[0;31mValueError\u001b[0m: 'hello' is not in list"
     ]
    }
   ],
   "source": [
    "#list的常用操作\n",
    "mylist=[\"itheima\",\"itcast\",\"python\"]\n",
    "#1.1 查找某元素在列表内的下标索引\n",
    "index=mylist.index(\"itheima\")\n",
    "print(f\"itheima在列表的下标索引值是,{index}\")\n",
    "\n",
    "#1.2如果被查找的元素不存在，会报错\n",
    "index=mylist.index(\"hello\")\n",
    "print(f\"hello在列表的下标索引值是,{index}\")"
   ]
  },
  {
   "cell_type": "code",
   "execution_count": 11,
   "metadata": {},
   "outputs": [
    {
     "name": "stdout",
     "output_type": "stream",
     "text": [
      "列表被修改元素值后,结果是:['你好', 'itcast', 'python']\n"
     ]
    }
   ],
   "source": [
    "#2 修改特定下标索引的值\n",
    "mylist[0]=\"你好\"\n",
    "print(f\"列表被修改元素值后,结果是:{mylist}\")"
   ]
  },
  {
   "cell_type": "code",
   "execution_count": 12,
   "metadata": {},
   "outputs": [
    {
     "name": "stdout",
     "output_type": "stream",
     "text": [
      "列表插入元素后是['你好', 'best', 'itcast', 'python']\n"
     ]
    }
   ],
   "source": [
    "#3 在指定下标位置插入新元素\n",
    "mylist.insert(1,\"best\")\n",
    "print(f\"列表插入元素后是{mylist}\")"
   ]
  },
  {
   "cell_type": "markdown",
   "metadata": {},
   "source": [
    "4 追加元素\n",
    "语法：列表.append（元素），将指定元素，追加到列表的尾部"
   ]
  },
  {
   "cell_type": "code",
   "execution_count": 13,
   "metadata": {},
   "outputs": [
    {
     "name": "stdout",
     "output_type": "stream",
     "text": [
      "列表追加了元素后,结果是：['你好', 'best', 'itcast', 'python', '黑马程序员']\n"
     ]
    }
   ],
   "source": [
    "#4在列表尾部追加“单个”新元素\n",
    "mylist.append(\"黑马程序员\")\n",
    "print(f\"列表追加了元素后,结果是：{mylist}\")"
   ]
  },
  {
   "cell_type": "markdown",
   "metadata": {},
   "source": [
    "5 追加元素方式2\n",
    "语法：列表.extend（其他数据容器，将其他数据容器的内容取出，依次追加到列表尾部"
   ]
  },
  {
   "cell_type": "code",
   "execution_count": 14,
   "metadata": {},
   "outputs": [
    {
     "name": "stdout",
     "output_type": "stream",
     "text": [
      "列表在追加了新的列表后,结果是:['你好', 'best', 'itcast', 'python', '黑马程序员', 1, 2, 3]\n"
     ]
    }
   ],
   "source": [
    "#在列表的尾部追加一批新元素\n",
    "mylist2=[1,2,3]\n",
    "mylist.extend(mylist2)\n",
    "print(f\"列表在追加了新的列表后,结果是:{mylist}\")"
   ]
  },
  {
   "cell_type": "markdown",
   "metadata": {},
   "source": [
    "6 删除元素\n",
    "语法1:del列表[下标]\n",
    "语法2:列表.pop（下标）"
   ]
  },
  {
   "cell_type": "code",
   "execution_count": 17,
   "metadata": {},
   "outputs": [
    {
     "name": "stdout",
     "output_type": "stream",
     "text": [
      "列表删除元素后结果是:['itheima', 'itcast']\n",
      "通过pop方法取出元素后列表内容:['itcast'], 取出的元素是:itheima\n"
     ]
    }
   ],
   "source": [
    "#6 删除指定下标索引的元素（两种方式）\n",
    "mylist=[\"itheima\",\"itcast\",\"python\"]\n",
    "\n",
    "#方式1:del列表[下标]\n",
    "del mylist [2]\n",
    "print(f\"列表删除元素后结果是:{mylist}\")\n",
    "\n",
    "#方法2:列表.pop（下标）\n",
    "element=mylist.pop(0)\n",
    "print(f\"通过pop方法取出元素后列表内容:{mylist}, 取出的元素是:{element}\")"
   ]
  },
  {
   "cell_type": "markdown",
   "metadata": {},
   "source": [
    "7 删除某元素在列表中的第一个匹配项\n",
    "语法：列表.remove（元素）"
   ]
  },
  {
   "cell_type": "code",
   "execution_count": 18,
   "metadata": {},
   "outputs": [
    {
     "name": "stdout",
     "output_type": "stream",
     "text": [
      "通过remove方法移除元素后:['itcast', 'itheima', 'python']\n"
     ]
    }
   ],
   "source": [
    "#7.删除元素在列表中的第一个匹配项\n",
    "mylist=[\"itheima\",\"itcast\",\"itheima\",\"python\"]\n",
    "mylist.remove(\"itheima\")\n",
    "print(f\"通过remove方法移除元素后:{mylist}\")"
   ]
  },
  {
   "cell_type": "markdown",
   "metadata": {},
   "source": [
    "8 清空列表\n",
    "语法； 列表.clear()"
   ]
  },
  {
   "cell_type": "code",
   "execution_count": 19,
   "metadata": {},
   "outputs": [
    {
     "name": "stdout",
     "output_type": "stream",
     "text": [
      "列表被清空了，结果是:[]\n"
     ]
    }
   ],
   "source": [
    "#8 清空列表\n",
    "mylist.clear()\n",
    "print(f\"列表被清空了，结果是:{mylist}\")"
   ]
  },
  {
   "cell_type": "markdown",
   "metadata": {},
   "source": [
    "9 统计某元素在列表中的数量\n",
    "语法：列表count（元素）"
   ]
  },
  {
   "cell_type": "code",
   "execution_count": 20,
   "metadata": {},
   "outputs": [
    {
     "name": "stdout",
     "output_type": "stream",
     "text": [
      "列表中itheima的数量是:2\n"
     ]
    }
   ],
   "source": [
    "#统计列表内元素的数量\n",
    "mylist=[\"itheima\",\"itcast\",\"itheima\",\"python\"]\n",
    "count=mylist.count(\"itheima\")\n",
    "print(f\"列表中itheima的数量是:{count}\")"
   ]
  },
  {
   "cell_type": "markdown",
   "metadata": {},
   "source": [
    "10 统计列表中，一共有多少元素\n",
    "语法：len（列表）\n"
   ]
  },
  {
   "cell_type": "code",
   "execution_count": null,
   "metadata": {},
   "outputs": [],
   "source": [
    "#10 统计列表中全部的元素数量\n",
    "mylist=[\"itheima\",\"itcast\",\"itheima\",\"python\"]\n",
    "count=len(mylist)\n",
    "print(f\"列表中元素数量总共有:{count}\")"
   ]
  },
  {
   "cell_type": "code",
   "execution_count": null,
   "metadata": {},
   "outputs": [],
   "source": [
    "#1.定义列表接收他\n",
    "student_list=[21,25,21,23,22,20]\n",
    "#2.追加一个数字31，到列表尾部\n",
    "student_list.append(31)\n",
    "#3.追加一个新列表[29,33,30],到尾部\n",
    "student_list.extend([29,33,30])\n",
    "#4.取出一个元素（应是：21）\n",
    "num1=student_list[0]\n",
    "print(f\"从列表中取出第一个元素，应是21，实际上是：{num1}\")\n",
    "#5.取出最后一个元素（应是30）\n",
    "num2=student_list[-1]\n",
    "print(f\"从列表中取出最后一个元素，应是30，实际上是：{num2}\")\n",
    "#查找元素31，在列表的下标位置\n",
    "index=student_list.index(31)\n",
    "print(f\"元素31在列表的下标位置：{index}\")\n",
    "print(f\"最后列表的内容是：{student_list}\")"
   ]
  },
  {
   "cell_type": "markdown",
   "metadata": {},
   "source": [
    "6.3循环遍历\n",
    "遍历 迭代：将容器内的元素依次取出进行处理的行为\n",
    "使用列表[下标]的方式取出\n",
    "while循环：任何想要循环的场景\n",
    "循环条件：\n",
    "        定义一个变量表示下标，从0开始\n",
    "        循环条件 下标值<列表的元素数量\n",
    "        "
   ]
  },
  {
   "cell_type": "code",
   "execution_count": null,
   "metadata": {},
   "outputs": [],
   "source": [
    "def list_while_func():\n",
    "    \"\"\"使用while循环遍历列表演示函数\n",
    "    :return:None\n",
    "    \"\"\"\n",
    "    my_list=[\"教育\",\"程序员\",\"python\"]\n",
    "    #循环控制变量通过下标索引来控制，默认0\n",
    "    #每一次循环将下标索引变量+1\n",
    "    #循环条件：下标索引变量<列表的元素数量\n",
    "    \n",
    "    \n",
    "    #定义一个变量用来标记列表的下标\n",
    "    index=0 #初始值为0\n",
    "    while index < len(mylist):\n",
    "        #通过index变量取出对应下标的元素\n",
    "        element=mylist[index]\n",
    "        print(f\"列表的元素：{element}\")\n",
    "        \n",
    "        #至关重要 将循环变量（index）每一次循环都+1\n",
    "        index +=1\n",
    "        \n",
    "list_while_func()"
   ]
  },
  {
   "cell_type": "markdown",
   "metadata": {},
   "source": [
    "for循环:不可以自定循环条件，不可以无限，遍历数据容器的场景或简单的固定次数场景\n",
    "语法：\n",
    "for 临时变量 in 数据容器：\n",
    "    对临时变量变量进行处理"
   ]
  },
  {
   "cell_type": "code",
   "execution_count": null,
   "metadata": {},
   "outputs": [],
   "source": [
    "def list_for_func():\n",
    "    \"\"\"使用for循环遍历列表演示函数\n",
    "    :return:None\n",
    "    \"\"\"\n",
    "    my_list=[1,2,3,4,5]\n",
    "    for element in my_list:\n",
    "        print(f\"列表的元素有:{element}\")\n",
    "\n",
    "list_for_func()"
   ]
  },
  {
   "cell_type": "code",
   "execution_count": null,
   "metadata": {},
   "outputs": [],
   "source": [
    "#eg 取出列表内的偶数\n"
   ]
  },
  {
   "cell_type": "markdown",
   "metadata": {},
   "source": [
    "6.4元组\n",
    "def：可以封装多个，不同类型的元素在内。于列表不同的是：元组一旦完成，不可修改\n",
    "语法：\n",
    "#定义元组字面量\n",
    "（元素，元素，...）\n",
    "#定义元组变量\n",
    "变量名称=（元素，元素，...）\n",
    "#定义空元组\n",
    "变量名称=（）    #方式1\n",
    "变量名称=tuple（）  #方式2\n",
    "\n",
    "ps:元组只有一个数据是，这个数据后面要添加逗号\n",
    "\n",
    "元组也支持嵌套"
   ]
  },
  {
   "cell_type": "code",
   "execution_count": null,
   "metadata": {},
   "outputs": [],
   "source": [
    "#演示tuple元组的定义与操作\n",
    "#定义元组\n",
    "t1=(1,\"hello\",True)\n",
    "t2=()\n",
    "t3=tuple()\n",
    "print(f\"t1的类型是：{type(t1)},内容是：{t1}\")\n",
    "print(f\"t2的类型是：{type(t2)},内容是：{t2}\")\n",
    "print(f\"t3的类型是：{type(t3)},内容是：{t3}\")\n",
    "\n",
    "#定义单个元素的元组\n",
    "t4=(\"hello\",)\n",
    "print(f\"t4的类型是:{type(t4)},t4的内容是:{t4}\")\n",
    "\n",
    "#元组的嵌套\n",
    "t5=((1,2,3),(4,5,6))\n",
    "print(f\"t5的类型是:{type(t5)},t4的内容是:{t5}\")\n",
    "\n",
    "#下标索引取出内容\n",
    "num=t5[1][2]\n",
    "print(f\"从嵌套元组中取出的数据是:{num}\")\n",
    "\n",
    "#元组的操作：index查找方法\n",
    "t6=(\"教育\",\"程序员\",\"python\")\n",
    "index=t6.index(\"程序员\")\n",
    "print(f\"在元组中查找黑马程序猿的下标是：{index}\")\n",
    "\n",
    "#元组的操作:count统计方法\n",
    "t7=(\"教育\",\"程序员\",\"python\",\"python\")\n",
    "num=t7.count(\"python\")\n",
    "print(f\"在元组t7中统计python的数量有：{num}\")\n",
    "\n",
    "#元组的操作:len函数统计元组元素数量\n",
    "t8=(\"教育\",\"程序员\",\"python\",\"python\")\n",
    "num=len(t8)\n",
    "print(f\"在元组t8中统计元组的数量有：{num}\")\n",
    "\n",
    "#元组的遍历:while\n",
    "index=0\n",
    "while index<len (t8):\n",
    "    print(f\"元组的元素有：{t8[index]}\")\n",
    "    #至关重要\n",
    "    index+=1\n",
    "\n",
    "\n",
    "\n",
    "#元组的遍历:for\n",
    "for element in t8:\n",
    "    print(f\"2元组的元素有：{element}\")\n",
    "    \n",
    "#尝试修改元组的内容\n",
    "#定义一个元组\n",
    "t9=(1,2,[\"itheima\",\"itcast\"])\n",
    "print(f\"t9的内容是：{t9}\")\n",
    "t9[2][0]=\"教育\"\n",
    "t9[2][1]=\"你啊好\"\n",
    "print(f\"t9的内容是：{t9}\")"
   ]
  },
  {
   "cell_type": "markdown",
   "metadata": {},
   "source": [
    "6.5 字符串的定义和操作\n",
    "字符串的下标索引\n",
    "字符串是不可修改的字符容器\n",
    "常用操作\n",
    "1查找特定字符串的下标索引值\n",
    "语法： 字符串.index（字符串）\n",
    "\n",
    "2字符串的替换\n",
    "语法：字符串.replace(字符串1，字符串2)\n",
    "功能：将字符串内的全部：字符串1，替换为字符串2\n",
    "注意：不是修改字符串本身，而是得到一个新的字符串\n",
    "\n",
    "3字符串的分割\n",
    "语法：字符串.spilt（分割字符串）\n",
    "功能：按照指定的分割符字符串，将字符串划分为多个字符串，并存入列表对象中\n",
    "注意：字符串本身不变，而是得到了一个新的列表对象\n",
    "\n",
    "4字符串的规整操作（去前后指定字符串）\n",
    "语法：字符串.strip（字符串）\n",
    "\n",
    "5统计字符串中某个字符串的长度，count\n",
    "\n"
   ]
  },
  {
   "cell_type": "code",
   "execution_count": null,
   "metadata": {},
   "outputs": [],
   "source": [
    "#字符串\n",
    "my_str=\"itheima and itcast\"\n",
    "#通过下标索引取值\n",
    "value1=my_str[2]\n",
    "value2=my_str[-16]\n",
    "print(f\"从字符串{my_str}取下标为2的元素, 值是{value1},取下标为-16的值是：{value2}\")\n",
    "\n",
    "#index方法\n",
    "value3=my_str.index(\"and\")\n",
    "print(f\"在字符串{my_str}中查找and,其起始下标是：{value3}\")\n",
    "\n",
    "#replace方法\n",
    "newmy_str=my_str.replace(\"it\",\"程序\")\n",
    "print(f\"将字符串{my_str}替换后{newmy_str}\")\n",
    "\n",
    "#spilt方法\n",
    "my_str=\"hello python itheima itcast\"\n",
    "my_str_list=my_str.split(\" \")\n",
    "print(f\"将字符串{my_str}进行spilt分割后得到：{my_str_list},类型是：{type(my_str_list)}\")\n",
    "\n",
    "#strip方法\n",
    "my_str=\"   itheima and itcast   \"\n",
    "newmy_str=my_str.strip()#不传入参数，取出首位空格\n",
    "print(f\"字符串{my_str}被strip后，结果是{newmy_str}\")\n",
    "\n",
    "my_str=\"12itheima and itcast21\"\n",
    "newmy_str=my_str.strip(\"12\")\n",
    "print(f\"字符串{my_str}被strip后，结果是{newmy_str}\")\n",
    "\n",
    "\n",
    "#统计字符串中某个字符串的长度，count\n",
    "my_str=\"itheima and itcast\"\n",
    "count=my_str.count(\"it\")\n",
    "print(f\"字符串{my_str}中it出现的次数是{count}\")\n",
    "\n",
    "\n",
    "#统计字符串的长度，len（）\n",
    "num=len(my_str)\n",
    "print(f\"字符串{my_str}的长度是：{num}\")\n"
   ]
  },
  {
   "cell_type": "code",
   "execution_count": null,
   "metadata": {},
   "outputs": [],
   "source": [
    "#eg\n",
    "#分割字符串\n",
    "my_str=\"itheima itcast boxuegu\"\n",
    "#统计字符串中有多少个“it”字符\n",
    "count=my_str.count(\"it\")\n",
    "print(f\"字符串{my_str}中it出现的次数是{count}\")\n",
    "#将字符串的空格，全部替换为字符：\"|\"\n",
    "newmy_str=my_str.replace(\" \",\"|\")\n",
    "print(f\"字符串{my_str}被strip后，结果是{newmy_str}\")\n",
    "#按照\"|\"进行字符串分割，得到列表\n",
    "my_str_list=my_str.split(\"|\")\n",
    "print(f\"将字符串{my_str}进行spilt分割后得到：{my_str_list},类型是：{type(my_str_list)}\")"
   ]
  },
  {
   "cell_type": "markdown",
   "metadata": {},
   "source": [
    "6.6数据容器的切片\n",
    "序列：内容连续，有序，可使用下标索引的一类数据容器\n",
    "     列表、元组、字符串都可以看作序列\n",
    "     序列常用操作：切片：从一个序列中，取出一个子序列\n",
    "                      语法：序列[起始下标：结束下标：步长]\n",
    "                           起始下标：从何处开始，可以留空，留空视作从头开始\n",
    "                           结束下标：（不含）表示何处结束，可以留空，留空视作截取到结尾\n",
    "                           步长：取元素的间隔\n",
    "                                步长1:一个个取元素\n",
    "                                步长2:每次跳过一个元素取\n",
    "                                步长N：每跳过n-1个元素取\n",
    "                                步长为负数表示，反向取（注意，起始下标和结束下标也要反向标记）\n",
    "                    不会影响序列本身，而是得到一个新的序列（表示元组和字符串）"
   ]
  },
  {
   "cell_type": "code",
   "execution_count": null,
   "metadata": {},
   "outputs": [],
   "source": [
    "#对序列进行切片操作\n",
    "\n",
    "#对list进行切片，从1开始，4结束，步长1\n",
    "my_list=[0,1,2,3,4,5,6]\n",
    "result1=my_list[1:4]  #步长默认是1，所以可以省略不写\n",
    "print(f\"结果1:{result1}\")\n",
    "\n",
    "#对tuple进行切片，从头开始，到最后结束，步长1\n",
    "my_tuple=(0,1,2,3,4,5,6)\n",
    "result2=my_tuple[:]  #起始和结束不写表示从头到尾，步长为1可以省略\n",
    "print(f\"结果2:{result2}\")\n",
    "\n",
    "#对str进行切片，从头开始，到最后结束，步长2\n",
    "my_str=\"01234567\"\n",
    "result3=my_str[::2]\n",
    "print(f\"结果3:{result3}\")\n",
    "\n",
    "#对str进行切片，从头开始，到最后结束，步长-1\n",
    "my_str=\"01234567\"\n",
    "result4=my_str[::-1]  #等同将序列反转\n",
    "print(f\"结果4:{result4}\")\n",
    "\n",
    "#对列表进行切片，从3开始，到1结束，步长-1\n",
    "my_list=[0,1,2,3,4,5,6]\n",
    "result5=my_list[3:1:-1]\n",
    "print(f\"结果5:{result5}\")\n",
    "\n",
    "#对元组进行切片，从头开始，到尾结束，步长-2\n",
    "my_tuple=(0,1,2,3,4,5,6)\n",
    "result6=my_tuple[::-2] \n",
    "print(f\"结果6:{result6}\")\n"
   ]
  },
  {
   "cell_type": "code",
   "execution_count": 11,
   "metadata": {},
   "outputs": [
    {
     "name": "stdout",
     "output_type": "stream",
     "text": [
      "结果:黑马程序员\n"
     ]
    }
   ],
   "source": [
    "#序列的切片实践\n",
    "my_str=\"万过薪月,员序程马黑来,nohtyP学\"\n",
    "result=my_str[::-1][9:14] \n",
    "print(f\"结果:{result}\")"
   ]
  },
  {
   "cell_type": "markdown",
   "metadata": {},
   "source": [
    "6.7数据容器:set(集合)：对内容进行去重处理且内容无序；不支持下标索引访问\n",
    "集合的定义格式：\n",
    "             列表[]\n",
    "             元组()\n",
    "             字符串\"\"\n",
    "             集合{}\n",
    "    基本语法：#定义集合字面量\n",
    "             {元素1，元素2，...}\n",
    "             #定义集合变量\n",
    "             变量名称={元素，元素，...}\n",
    "             #定义空集合\n",
    "             变量名称=set（）\n",
    "    \n",
    "    常用操作：修改：添加新元素\n",
    "                         语法：集合.add(元素)，将指定元素，添加到集合内\n",
    "                         结果：集合本身被修改，添加了新元素\n",
    "                 移除元素\n",
    "                        语法：集合.remove（元素），将指定元素，从集合内移除\n",
    "                        结果：集合本身被修改，移除了元素\n",
    "                 从集合中随机取出一个元素\n",
    "                                     语法：集合.pop(),功能，从集合中随机取出一个元素\n",
    "                                     结果：会得到一个元素的结果，同时集合本身被修改，元素无法被移除\n",
    "                 清空集合\n",
    "                        语法:集合.clear(), 功能，清空集合\n",
    "                        结果：集合本身被清空\n",
    "                \n",
    "                取出2个集合的差集\n",
    "                              语法：集合1.difference（集合2）\n",
    "                              功能：取出集合1和集合2的差集（集合1有而集合2没有的）\n",
    "                              结果：得到一个新集合，集合1和集合2不变\n",
    "\n",
    "                消除2个集合的差集\n",
    "                              语法：集合1.difference_update(集合2)\n",
    "                              功能：对比集合1和集合2，在集合1内，删除和集合2相同的元素\n",
    "                              结果：集合1被修改，集合2不变\n",
    "\n",
    "                两个集合合并为1个：\n",
    "                               语法：集合.union（集合2）\n",
    "                               功能：将集合1和集合2组合为一个新集合\n",
    "                               结果：得到新集合，集合1和集合2不变\n",
    "                \n",
    "                统计集合的元素数量：len()\n",
    "                                "
   ]
  },
  {
   "cell_type": "code",
   "execution_count": null,
   "metadata": {},
   "outputs": [],
   "source": [
    "#数据容器集合的使用\n",
    "\n",
    "#定义集合\n",
    "my_set={\"教育\",\"黑马程序员\",\"itheima\",\"教育\",\"黑马程序员\",\"itheima\",\"教育\",\"黑马程序员\",\"itheima\"}\n",
    "my_set_empty=set()  #定义空集合\n",
    "print(f\"my——set的内容是:{my_set},类型是:{type(my_set)}\")\n",
    "print(f\"my——set_empty的内容是:{my_set_empty},类型是:{type(my_set_empty)}\")\n",
    "\n",
    "#添加新元素\n",
    "my_set.add(\"python\")\n",
    "my_set.add(\"教育\")\n",
    "print(f\"my_set添加元素后结果是:{my_set}\")\n",
    "\n",
    "#移除元素\n",
    "my_set.remove(\"教育\")\n",
    "print(f\"my_set移除元素后结果是:{my_set}\")\n",
    "\n",
    "#随机取出一个元素\n",
    "my_set={\"教育\",\"黑马程序员\",\"itheima\"}\n",
    "element=my_set.pop()\n",
    "print(f\"my_set随机取出的元素后结果是:{element},取出元素后:{my_set}\")\n",
    "\n",
    "#清空集合\n",
    "my_set.clear()\n",
    "print(f\"my_set清空后结果是:{my_set}\")\n",
    "\n",
    "#取2个集合的差集\n",
    "set1={1,2,3}\n",
    "set2={1,5,6}\n",
    "set3=set1.difference(set2)\n",
    "print(f\"取2个集合的差集后结果是:{set3}\")\n",
    "print(f\"取差集后,原有set1的内容有:{set1}\")\n",
    "print(f\"取差集后,原有set2的内容有:{set2}\")\n",
    "\n",
    "#消除2个集合的差集\n",
    "set1={1,2,3}\n",
    "set2={1,5,6}\n",
    "set1.difference_update(set2)\n",
    "print(f\"消除差集后,集合1结果是:{set1}\")\n",
    "print(f\"消除差集后,集合2结果是:{set2}\")\n",
    "\n",
    "#两个集合合并为1个\n",
    "set1={1,2,3}\n",
    "set2={1,5,6}\n",
    "set3=set1.union(set2)\n",
    "print(f\"两集合合并结果是:{set3}\")\n",
    "print(f\"2集合合并后,集合1结果是:{set1}\")\n",
    "print(f\"2集合合并后,集合2结果是:{set2}\")\n",
    "\n",
    "#统计集合的元素数量\n",
    "set1={1,2,3,4,5,1,2,3,4,5}\n",
    "num=len(set1)\n",
    "print(f\"集合内的元素数量有{num}个\")\n",
    "\n",
    "\n",
    "#集合的遍历 集合不支持下标索引，不能用while循环，可以用for循环\n",
    "set1={1,2,3,4,5}\n",
    "for element in set1:\n",
    "    print(f\"集合的元素有:{element}\")\n"
   ]
  },
  {
   "cell_type": "code",
   "execution_count": null,
   "metadata": {},
   "outputs": [],
   "source": [
    "#eg信息去重\n",
    "my_list=[\"黑马程序员\",\"博客\",\"黑马程序员\",\"博客\",\"itheima\",\"itcast\",\"itheima\",\"itcast\"]\n",
    "#定义一个空集合\n",
    "my_set_empty=set() \n",
    "#通过for循环遍历列表\n",
    "for element in my_list:\n",
    "    #在for循环中将列表的元素添加到集合\n",
    "    my_set.add(element)\n",
    "   \n",
    "\n",
    "print(f\"列表的内容是:{my_list}\")\n",
    "print(f\"通过for循环后,得到的集合对象是:{my_set}\")"
   ]
  },
  {
   "cell_type": "markdown",
   "metadata": {},
   "source": [
    "6.8 数据容器：dict（字典、映射）\n",
    "字典的定义：用key取出value的操作\n",
    "          使用{}，但是存储的元素是一个个的:键值对\n",
    "          key不可以重复\n",
    "    \n",
    "    语法：#定义字典的字面量\n",
    "         {key:value,key:value,...,key:value}\n",
    "         #定义字典变量\n",
    "         my_dict={key:value,key:value,...,key:value}\n",
    "         #定义空字典\n",
    "         my_dict={}\n",
    "         my_dict=dict()\n",
    "\n",
    "字典数据的获取：和集合一样不可以使用下标索引，但是字典可以通过key的值来取得对应的value\n",
    "\n",
    "字典的嵌套：\n",
    "          字典的key和value可以是任意数据类型（key不可以是字典），字典可以嵌套\n",
    "\n",
    "字典的常用操作：\n",
    "             新增元素：语法：字典[key]=value,\n",
    "                     结果：字典被修改，新增了元素\n",
    "            \n",
    "            更新元素：语法：字典[key]=value\n",
    "                     结果：字典被修改，元素被更新\n",
    "                     注意猪猪；字典key不可以重复，所以对已存在的key进行操作，就是更新value值\n",
    "            \n",
    "            删除元素：语法：字典.pop(key)\n",
    "                     结果：获得指定key的value，同时字典被修改，指定key的数据被删除\n",
    "            \n",
    "            清空字典：语法：字典.clear()\n",
    "                     结果：字典被修改，元素被清空\n",
    "\n",
    "            获取全部key：语法：字典.keys（）\n",
    "                        结果：得到字典中全部的key\n",
    "            \n",
    "            统计数量：语法：语法：len（）\n",
    "                    \n",
    "          \n",
    "         \n",
    "             \n",
    "             \n",
    "\n",
    "    "
   ]
  },
  {
   "cell_type": "code",
   "execution_count": null,
   "metadata": {},
   "outputs": [],
   "source": [
    "#数据容器字典的使用\n",
    "\n",
    "#定义字典\n",
    "my_dict1={\"miki\":99,\"tom\":88,\"lucy\":90,}\n",
    "\n",
    "#定义空字典\n",
    "my_dict2={}\n",
    "my_dict3=dict()\n",
    "print(f\"字典1的内容是:{my_dict1},类型是:{type(my_dict1)}\")\n",
    "print(f\"字典2的内容是:{my_dict2},类型是:{type(my_dict2)}\")\n",
    "print(f\"字典3的内容是:{my_dict3},类型是:{type(my_dict3)}\")\n",
    "\n",
    "#定义重复key的字典\n",
    "my_dict1={\"miki\":99,\"miki\":88,\"lucy\":90,}\n",
    "print(f\"重复key的字典的内容是:{my_dict1}\")\n",
    "\n",
    "#从字典中基于key获取value\n",
    "my_dict1={\"miki\":99,\"tom\":88,\"lucy\":90,}\n",
    "score=my_dict1[\"tom\"]\n",
    "print(f\"miki的考试分数是:{score}\")\n",
    "\n",
    "#定义一个嵌套的字典\n",
    "stu_score_dict={\n",
    "    \"miki\":{\n",
    "        \"语文\":77,\n",
    "        \"数学\":66,\n",
    "        \"英语\":33\n",
    "        }, \"tom\":{\n",
    "            \"语文\":88,\n",
    "            \"数学\":86,\n",
    "            \"英语\":55\n",
    "            }, \"lucy\":{\n",
    "                \"语文\":99,\n",
    "                \"数学\":96,\n",
    "                \"英语\":66\n",
    "            }\n",
    "}\n",
    "\n",
    "print(f\"学生的考试信息是:{stu_score_dict}\")\n",
    "\n",
    "#从嵌套的字典中获取数据\n",
    "score=stu_score_dict[\"tom\"][\"语文\"]\n",
    "print(f\"tom的语文分数是:{score}\")\n"
   ]
  },
  {
   "cell_type": "code",
   "execution_count": null,
   "metadata": {},
   "outputs": [],
   "source": [
    "#字典的常用操作\n",
    "\n",
    "my_dict={\"miki\":99,\"tom\":88,\"lucy\":77}\n",
    "\n",
    "#新增元素\n",
    "my_dict[\"bob\"]=66\n",
    "print(f\"字典经过新增元素之后，结果:{my_dict}\")\n",
    "\n",
    "#更新语句\n",
    "my_dict[\"tom\"]=33\n",
    "print(f\"字典经过更新元素之后，结果:{my_dict}\")\n",
    "\n",
    "#删除元素\n",
    "score=my_dict.pop(\"tom\")\n",
    "print(f\"字典中被移除一个元素，结果tom的考试分数是:{score}\")\n",
    "\n",
    "#清空元素\n",
    "my_dict.clear()\n",
    "print(f\"字典被清空，内容是:{my_dict}\")\n",
    "\n",
    "#获取全部key\n",
    "my_dict={\"miki\":99,\"tom\":88,\"lucy\":77}\n",
    "keys=my_dict.keys()\n",
    "print(f\"字典的全部key是{keys}\")\n",
    "\n",
    "#遍历字典\n",
    "#方式1:通过获得全部的key来完成遍历\n",
    "for key in keys:\n",
    "    print(f\"字典的key是:{key}\")\n",
    "    print(f\"字典的value是:{my_dict[key]}\")\n",
    "    \n",
    "#方式2:直接对字典进行for循环，每一次循环都是直接得到key\n",
    "for key in my_dict:\n",
    "     print(f\"2字典的key是:{key}\")\n",
    "     print(f\"2字典的value是:{my_dict[key]}\")\n",
    "\n",
    "#统计字典内的元素数量\n",
    "num=len(my_dict)\n",
    "print(f\"字典中的元素数量有{num}个\")"
   ]
  },
  {
   "cell_type": "code",
   "execution_count": null,
   "metadata": {},
   "outputs": [],
   "source": [
    "#升职加薪\n",
    "staff_info={\n",
    "    \"王力宏\":{\n",
    "        \"部门\":\"科技部\", \n",
    "        \"工资\":3000, \n",
    "        \"级别\":1},\n",
    "    \"周杰伦\":{\n",
    "        \"部门\":\"市场部\", \n",
    "        \"工资\":5000, \n",
    "        \"级别\":2},\n",
    "    \"林俊杰\":{\n",
    "        \"部门\":\"市场部\", \n",
    "        \"工资\":7000, \n",
    "        \"级别\":3},\n",
    "    \"张学友\":{\n",
    "        \"部门\":\"科技部\", \n",
    "        \"工资\":4000, \n",
    "        \"级别\":1},\n",
    "    \"刘德华\":{\n",
    "        \"部门\":\"市场部\", \n",
    "        \"工资\":6000, \n",
    "        \"级别\":2}}\n",
    "\n",
    "print(f\"全体员工当前信息如下:{staff_info}\")\n",
    "\n",
    "#for循环遍历字典\n",
    "for name in staff_info:\n",
    "    #if条件判断符合条件的员工\n",
    "    if staff_info[name][\"级别\"]==1:\n",
    "        #升职加薪操作\n",
    "        #获取到员工的信息字典\n",
    "        employee_info_dict=staff_info[name]\n",
    "        #修改员工信息\n",
    "        employee_info_dict[\"级别\"]=2  #级别+1\n",
    "        employee_info_dict[\"工资\"]+=1000   #工资+1000\n",
    "        #将员工的信息更新回staff_info\n",
    "        staff_info[name]=employee_info_dict\n",
    "        \n",
    "#输出结果\n",
    "print(f\"对员工进行升职加薪后的结果是:{staff_info}\")\n",
    "        \n",
    "        \n",
    "    "
   ]
  },
  {
   "cell_type": "markdown",
   "metadata": {},
   "source": [
    "数据容器总结\n",
    "列表：一批数据，可修改，可重复的存储场景\n",
    "元组：一批数据，不可修改，可重复的存储场景\n",
    "字符串：一串字符串的存储场景\n",
    "集合：一批数据，去重存储场景\n",
    "字典：一批数据，可用key检索value的存储场景"
   ]
  },
  {
   "cell_type": "markdown",
   "metadata": {},
   "source": [
    "6.8 数据容器的\n",
    "通用操作\n",
    "         遍历：5类都可以for \n",
    "            列表 元组字符串支持while，集合字典不支持\n",
    "         len（）：统计容器的个数\n",
    "         max（）：统计容器的最大元素\n",
    "         min（）：统计元素的最小元素\n",
    "\n",
    "通用转换功能：\n",
    "           list():将给定容器转换为列表\n",
    "           str()\n",
    "           tuple()\n",
    "           set()\n",
    "\n",
    "通用排序功能：sorted(容器,[reverse=True]):将给定容器进行排序\n"
   ]
  },
  {
   "cell_type": "code",
   "execution_count": null,
   "metadata": {},
   "outputs": [],
   "source": [
    "#数据容器的通用功能\n",
    "my_list=[1,2,3,4,5]\n",
    "my_tuple=(1,2,3,4,5)\n",
    "my_str=\"abcdefg\"\n",
    "my_set={1,2,3,4,5}\n",
    "my_dict={\"key1\":1,\"key2\":2,\"key3\":3,\"key4\":4,\"key5\":5}\n",
    "\n",
    "#len()元素个数\n",
    "print(f\"列表 元素个数有:{len(my_list)}\")\n",
    "print(f\"元组 元素个数有:{len(my_tuple)}\")\n",
    "print(f\"字符串 元素个数有:{len(my_str)}\")\n",
    "print(f\"集合 元素个数有:{len(my_set)}\")\n",
    "print(f\"字典 元素个数有:{len(my_dict)}\")\n",
    "\n",
    "#max（）最大元素\n",
    "print(f\"列表 元素个数有:{max(my_list)}\")\n",
    "print(f\"元组 元素个数有:{max(my_tuple)}\")\n",
    "print(f\"字符串 元素个数有:{max(my_str)}\")\n",
    "print(f\"集合 元素个数有:{max(my_set)}\")\n",
    "print(f\"字典 元素个数有:{max(my_dict)}\")\n",
    "\n",
    "#min()最小元素\n",
    "print(f\"列表 元素个数有:{min(my_list)}\")\n",
    "print(f\"元组 元素个数有:{min(my_tuple)}\")\n",
    "print(f\"字符串 元素个数有:{min(my_str)}\")\n",
    "print(f\"集合 元素个数有:{min(my_set)}\")\n",
    "print(f\"字典 元素个数有:{min(my_dict)}\")\n",
    "\n",
    "#类型转换：容器转列表\n",
    "print(f\"列表转列表的结果是:{list(my_list)}\")\n",
    "print(f\"元组转列表的结果是:{list(my_tuple)}\")\n",
    "print(f\"字符串转列表的结果是:{list(my_str)}\")\n",
    "print(f\"集合转列表的结果是:{list(my_set)}\")\n",
    "print(f\"字典转列表的结果是:{list(my_dict)}\")\n",
    "\n",
    "#类型转换：容器转元组\n",
    "print(f\"列表转元组的结果是:{tuple(my_list)}\")\n",
    "print(f\"元组转元组的结果是:{tuple(my_tuple)}\")\n",
    "print(f\"字符串转元组的结果是:{tuple(my_str)}\")\n",
    "print(f\"集合转元组的结果是:{tuple(my_set)}\")\n",
    "print(f\"字典转元组的结果是:{tuple(my_dict)}\")\n",
    "\n",
    "#类型转换：容器转字符串\n",
    "print(f\"列表转字符串的结果是:{str(my_list)}\")\n",
    "print(f\"元组转字符串的结果是:{str(my_tuple)}\")\n",
    "print(f\"字符串转字符串的结果是:{str(my_str)}\")\n",
    "print(f\"集合转字符串字符串的结果是:{str(my_set)}\")\n",
    "print(f\"字典转字符串结果是:{str(my_dict)}\")\n",
    "\n",
    "#类型转换：容器转集合\n",
    "print(f\"列表转集合的结果是:{set(my_list)}\")\n",
    "print(f\"元组转集合的结果是:{set(my_tuple)}\")\n",
    "print(f\"字符串转集合的结果是:{set(my_str)}\")\n",
    "print(f\"集合转集合的结果集合是:{set(my_set)}\")\n",
    "print(f\"字典转集合的结果是:{set(my_dict)}\")\n",
    "\n",
    "#进行容器的排序\n",
    "print(f\"列表对象的排序结果sorted是:{sorted(my_list)}\")\n",
    "print(f\"元组对象的排序结果sorted是:{sorted(my_tuple)}\")\n",
    "print(f\"字符串对象的排序结果sorted是:{sorted(my_str)}\")\n",
    "print(f\"集合对象的排序结果sorted是:{sorted(my_set)}\")\n",
    "print(f\"字典对象的排序结果sorted是:{sorted(my_dict)}\")"
   ]
  },
  {
   "cell_type": "markdown",
   "metadata": {},
   "source": [
    "拓展 字符串大小比较\n",
    "数字的码值的比较 ASCII码表\n",
    "字符串的比较：字符串是按位比较，一位一位进行对比，只要有一位大，整体都大"
   ]
  },
  {
   "cell_type": "code",
   "execution_count": 69,
   "metadata": {},
   "outputs": [
    {
     "name": "stdout",
     "output_type": "stream",
     "text": [
      "abd大于abc,结果:True\n",
      "ab大于a,结果是:True\n",
      "a大于A,结果是:True\n",
      "key1<key2,结果是:True\n"
     ]
    }
   ],
   "source": [
    "#字符串大小的比较\n",
    "\n",
    "#abc比较abd\n",
    "print(f\"abd大于abc,结果:{'abd'>'abc'}\")\n",
    "\n",
    "#a比较ab\n",
    "print(f\"ab大于a,结果是:{'ab'>'a'}\")\n",
    "\n",
    "#a比较A\n",
    "print(f\"a大于A,结果是:{'a'>'A'}\")\n",
    "\n",
    "#key1比较key2\n",
    "print(f\"key1<key2,结果是:{'key2'>'key1'}\")"
   ]
  },
  {
   "cell_type": "code",
   "execution_count": null,
   "metadata": {},
   "outputs": [],
   "source": []
  }
 ],
 "metadata": {
  "kernelspec": {
   "display_name": "Python 3",
   "language": "python",
   "name": "python3"
  },
  "language_info": {
   "codemirror_mode": {
    "name": "ipython",
    "version": 3
   },
   "file_extension": ".py",
   "mimetype": "text/x-python",
   "name": "python",
   "nbconvert_exporter": "python",
   "pygments_lexer": "ipython3",
   "version": "3.12.7"
  }
 },
 "nbformat": 4,
 "nbformat_minor": 2
}
