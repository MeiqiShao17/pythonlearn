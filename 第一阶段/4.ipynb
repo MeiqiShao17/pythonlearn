{
 "cells": [
  {
   "cell_type": "markdown",
   "metadata": {},
   "source": [
    "4.1 使用while循环的基础应用\n",
    "while 条件（比较运算 布尔运算）:\n",
    "      条件满足时，做的事情1\n",
    "      条件满足时，做的事情2\n",
    "      条件满足时，做的事情3\n",
    "\n",
    "  "
   ]
  },
  {
   "cell_type": "code",
   "execution_count": null,
   "metadata": {},
   "outputs": [],
   "source": [
    "#while\n",
    "i=0\n",
    "while i<100:\n",
    "    print(\"miki\")\n",
    "    i+=1#设置终止条件"
   ]
  },
  {
   "cell_type": "code",
   "execution_count": 4,
   "metadata": {},
   "outputs": [
    {
     "name": "stdout",
     "output_type": "stream",
     "text": [
      "1-100累加的和是:5050\n"
     ]
    }
   ],
   "source": [
    "#eg求1-100的和\n",
    "i=1\n",
    "sum=0\n",
    "while i<=100:\n",
    "    sum+=i\n",
    "    i+=1\n",
    "print(f\"1-100累加的和是:{sum}\")"
   ]
  },
  {
   "cell_type": "code",
   "execution_count": 5,
   "metadata": {},
   "outputs": [
    {
     "name": "stdout",
     "output_type": "stream",
     "text": [
      "你猜小了\n",
      "你猜大了\n",
      "你猜大了\n",
      "你猜大了\n",
      "你猜大了\n",
      "你猜小了\n",
      "猜中\n",
      "你总共猜测了7次\n"
     ]
    }
   ],
   "source": [
    "#猜数字\n",
    "#获取1-100的随机数字\n",
    "import random\n",
    "num=random.randint(1,100)\n",
    "#定义一个变量总共猜测了多少次\n",
    "count=0\n",
    "\n",
    "#通过一个布尔类型的变量，做循环是否继续的标记\n",
    "flag=True\n",
    "while flag:\n",
    "    guess_num=int(input(\"输入你猜测的数字\"))\n",
    "    count+=1\n",
    "    if guess_num==num:\n",
    "        print(\"猜中\")\n",
    "        #设置为false就是终止循环的条件\n",
    "        flag=False\n",
    "    else:\n",
    "        if guess_num>num:\n",
    "            print(\"你猜大了\")\n",
    "        else:\n",
    "            print(\"你猜小了\")\n",
    "            \n",
    "print(f\"你总共猜测了{count}次\")\n",
    "            \n",
    "\n"
   ]
  },
  {
   "cell_type": "markdown",
   "metadata": {},
   "source": [
    "4.3while嵌套应用\n",
    "while 条件1:\n",
    "      条件1满足时，做的事情1\n",
    "      条件1满足时，做的事情2\n",
    "\n",
    "      while 条件2:\n",
    "            条件2满足时，做的事情1\n",
    "            条件2满足时，做的事情2"
   ]
  },
  {
   "cell_type": "code",
   "execution_count": null,
   "metadata": {},
   "outputs": [],
   "source": [
    "#嵌套使用\n",
    "#外层：表白100天控制\n",
    "#内层：每天的表白都送1支玫瑰花的控制\n",
    "\n",
    "i=1\n",
    "while i<=100:\n",
    "    print(f\"今天是第{i}天,准备表白\")\n",
    "    \n",
    "    #内层循环的控制变量\n",
    "    j=0\n",
    "    while j<10:\n",
    "        print(f\"送给第{j}支玫瑰花\")\n",
    "        j+=1\n",
    "    print(\"我喜欢你\")\n",
    "    i+=1\n",
    "\n",
    "print(f\"坚持第{i-1}天，表白成功\")"
   ]
  },
  {
   "cell_type": "markdown",
   "metadata": {},
   "source": [
    "4.4 嵌套eg\n",
    "print（）输出不换行 后面+ end=‘’\n",
    "制表符 \\t  对齐"
   ]
  },
  {
   "cell_type": "code",
   "execution_count": 13,
   "metadata": {},
   "outputs": [
    {
     "name": "stdout",
     "output_type": "stream",
     "text": [
      "hello\tworld\n",
      "itheima\tbest\n"
     ]
    }
   ],
   "source": [
    "\n",
    "print(\"hello\\tworld\")\n",
    "print(\"itheima\\tbest\")"
   ]
  },
  {
   "cell_type": "code",
   "execution_count": null,
   "metadata": {},
   "outputs": [],
   "source": [
    "#99乘法表\n",
    "#外层循环 控制行的循环i<=9\n",
    "#内层循环 控制每一行输出的循环j<=i  j*i print(j*i,end='')\n",
    "\n",
    "#定义外层循环的控制变量\n",
    "i=1\n",
    "while i<=9:\n",
    "    \n",
    "    #定义内层循环的控制变量\n",
    "    j=1\n",
    "    while j<=i:\n",
    "        #内层循环的print语句不换行 通过\\t 进行对齐\n",
    "        print(f\"{j}*{i}={j*i}\\t\",end='')\n",
    "        j+=1\n",
    "    \n",
    "    i+=1\n",
    "    print()#print空内容，就是输出一个换行\n",
    "\n",
    "\n"
   ]
  },
  {
   "cell_type": "markdown",
   "metadata": {},
   "source": [
    "4.5 for循环:遍历循环（序列类型）  无法构成\n",
    "4.5.1基本语法 代办事项 逐个完成的循环\n",
    "for 临时变量 in 待处理数据集（序列类型）：\n",
    "    循环满足条件时执行的代码"
   ]
  },
  {
   "cell_type": "code",
   "execution_count": null,
   "metadata": {},
   "outputs": [],
   "source": [
    "#遍历字符串\n",
    "name=\"itheima\"\n",
    "\n",
    "for x in name:\n",
    "    #将name的内容挨个取出赋予x临时变量 就可以在循环体内对x进行处理\n",
    "    print(x)\n",
    "    "
   ]
  },
  {
   "cell_type": "code",
   "execution_count": 16,
   "metadata": {},
   "outputs": [
    {
     "name": "stdout",
     "output_type": "stream",
     "text": [
      "被统计的字符串中有4个a\n"
     ]
    }
   ],
   "source": [
    "#eg 有几个a\n",
    "name=\"itheima is a brrand itcase\"\n",
    "#定义一个变量 来统计有多少个a\n",
    "count=0\n",
    "\n",
    "for x in name:\n",
    "    if x==\"a\":\n",
    "        count+=1\n",
    "        \n",
    "print(f\"被统计的字符串中有{count}个a\")\n",
    "        "
   ]
  },
  {
   "cell_type": "markdown",
   "metadata": {},
   "source": [
    "4.5.2 rang语句 获得简单的数字序列\n",
    "\n",
    "range(num)\n",
    "获取一个从0开始，到num结束的数字序列（不含num本身）\n",
    "range（5）获得的数据是【0 1 2 3 4】\n",
    "\n",
    "range（num1，num2）\n",
    "获取一个从num1开始，到num2结束的数字序列（不含num2本身）\n",
    "range（5，10）获得的数据是【5，6，7，8，9】\n",
    "\n",
    "range（num1，num2，step）\n",
    "获得一个从num1开始到num2结束的数字序列（不含num2本身）\n",
    "数字之间的步长，以step为主（step默认是1）\n",
    "range(5,10,2)获得的数据是 【5，7，9】"
   ]
  },
  {
   "cell_type": "code",
   "execution_count": null,
   "metadata": {},
   "outputs": [],
   "source": [
    "#range语法1 range(num)\n",
    "for x in range(10):\n",
    "    print(x)\n"
   ]
  },
  {
   "cell_type": "code",
   "execution_count": null,
   "metadata": {},
   "outputs": [],
   "source": [
    "#range 语法2 range(num1,num2)\n",
    "for x in range(5,10):\n",
    "    print(x)"
   ]
  },
  {
   "cell_type": "code",
   "execution_count": null,
   "metadata": {},
   "outputs": [],
   "source": [
    "#range 语法3 range(num1,num2,step)\n",
    "for x in range(5,10,2):\n",
    "    #从5开始，到10结束（不包含10本身）的一个数字序列，数字之间的间隔是2\n",
    "    print(x)\n",
    "    "
   ]
  },
  {
   "cell_type": "code",
   "execution_count": 24,
   "metadata": {},
   "outputs": [
    {
     "name": "stdout",
     "output_type": "stream",
     "text": [
      "1到100(不含100本身)范围内,有49个偶数\n"
     ]
    }
   ],
   "source": [
    "#eg\n",
    "num=100\n",
    "count=0\n",
    "for x in range(1,100):\n",
    "    if x%2==0:\n",
    "        count+=1\n",
    "\n",
    "print(f\"1到100(不含100本身)范围内,有{count}个偶数\")\n",
    "        "
   ]
  },
  {
   "cell_type": "markdown",
   "metadata": {},
   "source": [
    "4.5.3 变量作用域\n",
    "作用范围 只限定在for循环内部"
   ]
  },
  {
   "cell_type": "code",
   "execution_count": null,
   "metadata": {},
   "outputs": [],
   "source": [
    "i=0\n",
    "for i in range(5):\n",
    "    print(i)\n",
    "print(i)"
   ]
  },
  {
   "cell_type": "markdown",
   "metadata": {},
   "source": [
    "4.6 for循环的嵌套使用\n",
    "for 临时变量 in 待处理的数据集（序列）：\n",
    "    循环满足条件应做的事情1\n",
    "    。。。\n",
    "    for 临时变量 in 待处理的数据集（序列）：\n",
    "         循环满足条件应做的事情1"
   ]
  },
  {
   "cell_type": "code",
   "execution_count": null,
   "metadata": {},
   "outputs": [],
   "source": [
    "#坚持表白100天，每天都送10朵花\n",
    "\n",
    "i=0\n",
    "for i in range(1,101):\n",
    "    print(f\"今天是表白的第{i}天\")\n",
    "    \n",
    "    #内层循环\n",
    "    for j in range(1,11):\n",
    "        print(f\"给小美送的第{j}朵玫瑰花\")\n",
    "    print(\"小美我喜欢你\")\n",
    "\n",
    "print(f\"第{i}天,表白成功\")"
   ]
  },
  {
   "cell_type": "code",
   "execution_count": null,
   "metadata": {},
   "outputs": [],
   "source": [
    "#eg for循环的99表\n",
    "#通过外层循环控制行数\n",
    "for i in range(1,10):\n",
    "    #通过内层循环控制每一行的输出\n",
    "    for j in range(1,i+1):\n",
    "        #内层循环中输出每一行内容\n",
    "        print(f\"{j}*{i}= {j*i}\\t\", end='')\n",
    "    #外层循环可以通过print输出一个空行\n",
    "    print()\n"
   ]
  },
  {
   "cell_type": "markdown",
   "metadata": {},
   "source": [
    "4.7 循环中断：break和continue\n",
    "continue:中断本次循环，直接进入下一次循环\n",
    "          for循环和while循环，效果一致\n",
    "\n",
    "break 直接结束循环（只控制它所在的循环）\n",
    "      for和while 效果一致"
   ]
  },
  {
   "cell_type": "code",
   "execution_count": null,
   "metadata": {},
   "outputs": [],
   "source": [
    "#continue\n",
    "for i in range(1,6):\n",
    "    print(\"语句1\")\n",
    "    continue\n",
    "    print(\"语句2\")\n"
   ]
  },
  {
   "cell_type": "code",
   "execution_count": null,
   "metadata": {},
   "outputs": [],
   "source": [
    "for i in range(1,6):\n",
    "    print(\"语句1\")\n",
    "    for j in range(1,6):\n",
    "        print(\"语句2\")\n",
    "        continue\n",
    "        print(\"语句3\")\n",
    "    \n",
    "    print(\"语句4\")"
   ]
  },
  {
   "cell_type": "code",
   "execution_count": null,
   "metadata": {},
   "outputs": [],
   "source": [
    "#break\n",
    "for i in range(1,101):\n",
    "    print(\"语句1\")\n",
    "    break\n",
    "    print(\"语句2\")\n",
    "    \n",
    "print(\"语句3\")"
   ]
  },
  {
   "cell_type": "code",
   "execution_count": null,
   "metadata": {},
   "outputs": [],
   "source": [
    "for i in range(1,6):\n",
    "    print(\"语句1\")\n",
    "    for j in range(1,6):\n",
    "        print(\"语句2\")\n",
    "        break\n",
    "        print(\"语句3\")\n",
    "\n",
    "print(\"语句4\")"
   ]
  },
  {
   "cell_type": "code",
   "execution_count": null,
   "metadata": {},
   "outputs": [],
   "source": [
    "#综合 发工资\n",
    "#定义账户余额\n",
    "money=10000\n",
    "#for循环对员工发放工资\n",
    "for i in range(1,21):\n",
    "    import random\n",
    "    score= random.randint(1,10)\n",
    "    \n",
    "    if score<5:\n",
    "        print(f\"员工{i}绩效分{score},不满足条件,不发工资,下一位\")\n",
    "        #continue 跳过发放\n",
    "        continue\n",
    "    \n",
    "    #判断余额足不足\n",
    "    if money>=1000:\n",
    "        money-=1000\n",
    "        print(f\"员工{i},满足条件,发放工资,公司账户余额还剩{money}元\")\n",
    "    else:\n",
    "        print(f\"余额不足, 当前余额:{money}元, 不足以发工资，不发了，下个月再来\")\n",
    "        #break结束发放\n",
    "        break\n",
    "    \n"
   ]
  }
 ],
 "metadata": {
  "kernelspec": {
   "display_name": "Python 3",
   "language": "python",
   "name": "python3"
  },
  "language_info": {
   "codemirror_mode": {
    "name": "ipython",
    "version": 3
   },
   "file_extension": ".py",
   "mimetype": "text/x-python",
   "name": "python",
   "nbconvert_exporter": "python",
   "pygments_lexer": "ipython3",
   "version": "3.12.7"
  }
 },
 "nbformat": 4,
 "nbformat_minor": 2
}
