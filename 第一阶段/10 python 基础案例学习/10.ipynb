{
 "cells": [
  {
   "cell_type": "markdown",
   "metadata": {},
   "source": [
    "10 python基础案例 数据可视化——折线图可视化"
   ]
  },
  {
   "cell_type": "markdown",
   "metadata": {},
   "source": [
    "### json数据格式\n",
    "json：轻量级的数据交互格式，组织 封装数据（带有特定格式的字符串）\n",
    "功能：数据传递和交互\n",
    "就是python的列表嵌套字典，列表变成字符串"
   ]
  },
  {
   "cell_type": "code",
   "execution_count": null,
   "metadata": {},
   "outputs": [],
   "source": [
    "#json数据和python字典的相互转换\n",
    "\n",
    "import json\n",
    "\n",
    "#准备列表，列表内的每一个元素都是字典，将其转换为json模式\n",
    "data=[{\"name\":\"tom\",\"age\":11},{\"name\":\"lucy\",\"age\":14},{\"name\":\"bob\",\"age\":9}]\n",
    "json_str=json.dumps(data,ensure_ascii=False) #要写中文，就写ensure_ascii\n",
    "print(type(json_str))\n",
    "print(json_str)\n",
    "\n",
    "#准备字典，把字典转换为json\n",
    "d={\"name\":\"jerry\",\"addr\":\"taibei\"}\n",
    "json_str=json.dumps(d,ensure_ascii=False)\n",
    "print(type(json_str))\n",
    "print(json_str)\n",
    "\n",
    "#将json字符串转换为python数据类型[{k:v},{k:v}]\n",
    "s='[{\"name\":\"tom\",\"age\":11},{\"name\":\"lucy\",\"age\":14},{\"name\":\"bob\",\"age\":9}]'\n",
    "l=json.loads(s)\n",
    "print(type(l))\n",
    "print(l)\n",
    "\n",
    "#将json字符串转换为python数据类型{k:v,k:v}\n",
    "s='{\"name\":\"jerry\",\"addr\":\"taibei\"}'\n",
    "d=json.loads(s)\n",
    "print(type(d))\n",
    "print(d)"
   ]
  },
  {
   "cell_type": "markdown",
   "metadata": {},
   "source": [
    "### pyecharts模块（数据可视化）\n",
    "google 搜索 还可以gallery搜索\n",
    "配置选项：全局配置：set_global_opts方法"
   ]
  },
  {
   "cell_type": "code",
   "execution_count": 12,
   "metadata": {},
   "outputs": [
    {
     "data": {
      "text/plain": [
       "'/Users/miki/Desktop/pythonlearn/10 python 基础案例学习/render.html'"
      ]
     },
     "execution_count": 12,
     "metadata": {},
     "output_type": "execute_result"
    }
   ],
   "source": [
    "#导包，导入line功能构建折线图对象\n",
    "from pyecharts.charts import Line\n",
    "from pyecharts.options import TitleOpts,LegendOpts,ToolboxOpts,VisualMapOpts\n",
    "\n",
    "#创建一个折线图对象\n",
    "line =Line()\n",
    "#给折线图对象添加x轴的数据\n",
    "line.add_xaxis([\"china\",\"USA\",\"US\"])\n",
    "#添加y轴数据\n",
    "line.add_yaxis(\"GDP\",[30,20,10])\n",
    "\n",
    "#设置全局配置项set_global_opts来设置\n",
    "line.set_global_opts(\n",
    "    title_opts=TitleOpts(title=\"GDP SHOW\",pos_left=\"center\",pos_bottom=\"1%\"),\n",
    "    legend_opts=LegendOpts(is_show=True),\n",
    "    toolbox_opts=ToolboxOpts(is_show=True),\n",
    "    visualmap_opts=VisualMapOpts(is_show=True),\n",
    ")\n",
    "\n",
    "#通过render方法，将代码生成为图像\n",
    "line.render()\n"
   ]
  },
  {
   "cell_type": "code",
   "execution_count": 17,
   "metadata": {},
   "outputs": [],
   "source": [
    "#eg折线图开发\n",
    "import json\n",
    "from pyecharts.charts import Line\n",
    "from pyecharts.options import TitleOpts,LabelOpts\n",
    "\n",
    "#处理数据\n",
    "f_us=open(\"/Users/miki/pythonlearn/10 python 基础案例学习/折线图数据/美国.txt\", \"r\", encoding=\"UTF-8\")\n",
    "us_data=f_us.read() #美国的所有数据\n",
    "\n",
    "f_jp=open(\"/Users/miki/pythonlearn/10 python 基础案例学习/折线图数据/日本.txt\", \"r\", encoding=\"UTF-8\")\n",
    "jp_data=f_jp.read() #日本的所有数据\n",
    "\n",
    "f_in=open(\"/Users/miki/pythonlearn/10 python 基础案例学习/折线图数据/印度.txt\", \"r\", encoding=\"UTF-8\")\n",
    "in_data=f_in.read() #印度的所有数据\n",
    "\n",
    "#去掉不合json规范的开头\n",
    "us_data=us_data.replace(\"jsonp_1629344292311_69436(\",\"\")\n",
    "jp_data=jp_data.replace(\"jsonp_1629350871167_29498(\",\"\")\n",
    "in_data=in_data.replace(\"jsonp_1629350745930_63180(\",\"\")\n",
    "\n",
    "#去掉不合json规范的结尾\n",
    "us_data=us_data[:-2]\n",
    "jp_data=jp_data[:-2]\n",
    "in_data=in_data[:-2]\n",
    "\n",
    "#json转python字典\n",
    "us_dict=json.loads(us_data)\n",
    "jp_dict=json.loads(jp_data)\n",
    "in_dict=json.loads(in_data)\n",
    "\n",
    "#获取trend key\n",
    "us_trend_data=us_dict['data'][0]['trend']\n",
    "jp_trend_data=jp_dict['data'][0]['trend']\n",
    "in_trend_data=in_dict['data'][0]['trend']\n",
    "\n",
    "#获取日期数据，用于x轴，取2020年（到314下标结束）\n",
    "us_x_data=us_trend_data['updateDate'][:314]\n",
    "jp_x_data=jp_trend_data['updateDate'][:314]\n",
    "in_x_data=in_trend_data['updateDate'][:314]\n",
    "\n",
    "#获取确认数据，用于y轴，取2020年（到315下标结束）\n",
    "us_y_data=us_trend_data['list'][0]['data'][:314]\n",
    "jp_y_data=jp_trend_data['list'][0]['data'][:314]\n",
    "in_y_data=in_trend_data['list'][0]['data'][:314]\n",
    "\n",
    "#生成图标\n",
    "line=Line()  #构建折线图对象\n",
    "#添加x轴数据\n",
    "line.add_xaxis(us_x_data)  #x轴是公用的，所以使用一个国家的数据即可\n",
    "\n",
    "#添加y轴数据\n",
    "line.add_yaxis(\"美国确诊人数\",us_y_data,label_opts=LabelOpts(is_show=False))  #添加美国的y轴数据 labelopts表示标签显示\n",
    "line.add_yaxis(\"日本确诊人数\",jp_y_data,label_opts=LabelOpts(is_show=False)) \n",
    "line.add_yaxis(\"印度确诊人数\",in_y_data,label_opts=LabelOpts(is_show=False)) \n",
    "\n",
    "#设置全局选项\n",
    "line.set_global_opts(\n",
    "    #标题设置\n",
    "    title_opts=TitleOpts(title=\"2020年美日印三国确诊人数对比折线图\",pos_left=\"center\",pos_bottom=\"1%\"),\n",
    "    \n",
    ")\n",
    "#调用render方法生成图表\n",
    "line.render()\n",
    "\n",
    "#关闭文件\n",
    "f_us.close()\n",
    "f_jp.close()\n",
    "f_in.close()"
   ]
  }
 ],
 "metadata": {
  "kernelspec": {
   "display_name": "Python 3",
   "language": "python",
   "name": "python3"
  },
  "language_info": {
   "codemirror_mode": {
    "name": "ipython",
    "version": 3
   },
   "file_extension": ".py",
   "mimetype": "text/x-python",
   "name": "python",
   "nbconvert_exporter": "python",
   "pygments_lexer": "ipython3",
   "version": "3.12.7"
  }
 },
 "nbformat": 4,
 "nbformat_minor": 2
}
