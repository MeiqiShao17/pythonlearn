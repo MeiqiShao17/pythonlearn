{
 "cells": [
  {
   "cell_type": "markdown",
   "metadata": {},
   "source": [
    "3 python 判断语句"
   ]
  },
  {
   "cell_type": "markdown",
   "metadata": {},
   "source": [
    "3.1 布尔类型和比较运算符\n",
    "布尔类型bool：真和假 true：真1  false：假0\n",
    "            变量名称=布尔类型字面量\n",
    "比较运算符：== 内容是否相等\n",
    "          ！= 内容是否不相等\n",
    "          >\n",
    "          <\n",
    "          >=\n",
    "          <=\n"
   ]
  },
  {
   "cell_type": "code",
   "execution_count": 6,
   "metadata": {},
   "outputs": [
    {
     "name": "stdout",
     "output_type": "stream",
     "text": [
      "bool_1变量的内容是:True,类型是:<class 'bool'>\n",
      "bool_2变量的内容是:False,类型是:<class 'bool'>\n",
      "10==10的结果是:True\n",
      "10!=15的结果是:True\n",
      "itcast==itheima的结果是:False\n",
      "10>5的结果是:True\n",
      "10<5的结果是:False\n",
      "10>=10的结果是:True\n",
      "10<=10的结果是:True\n"
     ]
    }
   ],
   "source": [
    "#定义变量存储布尔类型的数据\n",
    "bool_1=True\n",
    "bool_2=False\n",
    "print(f\"bool_1变量的内容是:{bool_1},类型是:{type(bool_1)}\")\n",
    "print(f\"bool_2变量的内容是:{bool_2},类型是:{type(bool_2)}\")\n",
    "\n",
    "#比较运算符的使用\n",
    "#内容的相等比较\n",
    "num_1=10\n",
    "num_2=10\n",
    "print(f\"10==10的结果是:{num_1==num_2}\")\n",
    "\n",
    "#不相等比较\n",
    "num1=10\n",
    "num2=15\n",
    "print(f\"10!=15的结果是:{num1!=num2}\")\n",
    "\n",
    "name1=\"itcast\"\n",
    "name2=\"itheima\"\n",
    "print(f\"itcast==itheima的结果是:{name1==name2}\")\n",
    "\n",
    "#>,<,>=,<=\n",
    "num1=10\n",
    "num2=5\n",
    "print(f\"10>5的结果是:{num1>num2}\")\n",
    "print(f\"10<5的结果是:{num1<num2}\")\n",
    "\n",
    "num1=10\n",
    "num2=10\n",
    "print(f\"10>=10的结果是:{num1>=num2}\")\n",
    "print(f\"10<=10的结果是:{num1<=num2}\")"
   ]
  },
  {
   "cell_type": "markdown",
   "metadata": {},
   "source": [
    "3.2 if语句\n",
    "if 判断的条件： \n",
    "(空格缩进）条件成立时，要做的事情"
   ]
  },
  {
   "cell_type": "code",
   "execution_count": 8,
   "metadata": {},
   "outputs": [
    {
     "name": "stdout",
     "output_type": "stream",
     "text": [
      "时间过的真快啊\n"
     ]
    }
   ],
   "source": [
    "#if语句的基本格式\n",
    "age=10\n",
    "\n",
    "if age>=18:\n",
    "    print(\"我已经成年了\")\n",
    "    print(\"即将步入大学生活\")\n",
    "    \n",
    "print(\"时间过的真快啊\")"
   ]
  },
  {
   "cell_type": "code",
   "execution_count": 11,
   "metadata": {},
   "outputs": [
    {
     "name": "stdout",
     "output_type": "stream",
     "text": [
      "祝您游玩愉快\n"
     ]
    }
   ],
   "source": [
    "#成年人判断\n",
    "age=int(input(\"请输入你的年龄：\"))\n",
    "if age>=18:\n",
    "    print(\"你已成年,游玩需要门票10元\")\n",
    "print(\"祝您游玩愉快\")"
   ]
  },
  {
   "cell_type": "markdown",
   "metadata": {},
   "source": [
    "3.3 if else 语句\n",
    "if 条件：\n",
    "    满足条件时要做的事情\n",
    "else：\n",
    "     不满足要做的事情"
   ]
  },
  {
   "cell_type": "code",
   "execution_count": 13,
   "metadata": {},
   "outputs": [
    {
     "name": "stdout",
     "output_type": "stream",
     "text": [
      "您未成年，免费游玩\n"
     ]
    }
   ],
   "source": [
    "#if else 组合语句判断\n",
    "age=int(input(\"请输入您的年龄:\"))\n",
    "\n",
    "if age>=18:\n",
    "    print(\"您已成年,买票10元\")\n",
    "else:#不需要判断条件\n",
    "    print(\"您未成年，免费游玩\")\n",
    "    "
   ]
  },
  {
   "cell_type": "code",
   "execution_count": 15,
   "metadata": {},
   "outputs": [
    {
     "name": "stdout",
     "output_type": "stream",
     "text": [
      "您的身高低于120cm,可以免费游玩\n",
      "祝您游玩愉快\n"
     ]
    }
   ],
   "source": [
    "#eg 买票\n",
    "height=int(input(\"您的身高cm\"))\n",
    "\n",
    "if height>=120:\n",
    "    print(\"您的身高超出120cm,需买票10元\")\n",
    "else:\n",
    "    print(\"您的身高低于120cm,可以免费游玩\")\n",
    "\n",
    "print(\"祝您游玩愉快\")"
   ]
  },
  {
   "cell_type": "markdown",
   "metadata": {},
   "source": [
    "3.4 if elif else 语句\n",
    "if 条件1:\n",
    "   条件1满足应做的事情\n",
    "elif 条件2：\n",
    "   条件2应满足应做的事情\n",
    "\n",
    "elif 条件n”：#判断是互斥的且有序的\n",
    "   条件n满足应做的事情\n",
    "else：#可以不用写\n",
    "   所有条件都不满足应做的事情\n"
   ]
  },
  {
   "cell_type": "code",
   "execution_count": 21,
   "metadata": {},
   "outputs": [
    {
     "name": "stdout",
     "output_type": "stream",
     "text": [
      "今天是1号可以免费\n"
     ]
    }
   ],
   "source": [
    "#if elif else 语句的使用\n",
    "\n",
    "\n",
    "if int(input(\"您的身高cm\"))<120:\n",
    "    print(\"身高小于120,免费\")\n",
    "elif int(input(\"请输入您的vip等级(1-5):\"))>3:#可以多个\n",
    "    print(\"vip级别>3,可以免费\")\n",
    "elif int(input(\"请告诉我今天几号：\"))==1:\n",
    "    print(\"今天是1号可以免费\")\n",
    "else:\n",
    "    print(\"条件都不满足,需要买票\")\n",
    "\n"
   ]
  },
  {
   "cell_type": "code",
   "execution_count": 22,
   "metadata": {},
   "outputs": [
    {
     "name": "stdout",
     "output_type": "stream",
     "text": [
      "sorry\n"
     ]
    }
   ],
   "source": [
    "#猜心理数字\n",
    "num=5\n",
    "\n",
    "if int(input(\"猜一个数字：\"))==num:\n",
    "    print(\"恭喜您第一次答对\")\n",
    "elif int(input(\"猜错了再猜一次\"))==num:\n",
    "    print(\"猜对了\")\n",
    "elif int(input(\"猜错了再猜一次\"))==num:\n",
    "    print(\"最后一次机会,你猜对了\")\n",
    "else:\n",
    "    print(\"sorry\")"
   ]
  },
  {
   "cell_type": "markdown",
   "metadata": {},
   "source": [
    "3.5 嵌套使用：多条件 多层次的逻辑判断\n",
    "if 条件1:\n",
    "   满足条件1 做的事情1\n",
    "   满足条件1 做的事情2\n",
    "   if 条件2:\n",
    "      满足条件2 做的事情1\n",
    "      满足条件2 做的事情2"
   ]
  },
  {
   "cell_type": "code",
   "execution_count": 23,
   "metadata": {},
   "outputs": [
    {
     "name": "stdout",
     "output_type": "stream",
     "text": [
      "身高超出限制,不可以免费\n",
      "但是vip大于3,可以免费\n",
      "vip级别>3,可以免费\n"
     ]
    }
   ],
   "source": [
    "#嵌套使用\n",
    "if int(input(\"您的身高cm\"))>120:\n",
    "    print(\"身高超出限制,不可以免费\")\n",
    "    print(\"但是vip大于3,可以免费\")\n",
    "    \n",
    "    if int(input(\"请输入您的vip等级(1-5):\"))>3:\n",
    "        print(\"vip级别>3,可以免费\")\n",
    "        \n",
    "    else:\n",
    "        print(\"sorry 你要买票10元\")\n",
    "\n",
    "else:\n",
    "    print(\"欢迎小朋友免费游玩\")"
   ]
  },
  {
   "cell_type": "code",
   "execution_count": 26,
   "metadata": {},
   "outputs": [
    {
     "name": "stdout",
     "output_type": "stream",
     "text": [
      "不好意思 小朋友不能领取\n"
     ]
    }
   ],
   "source": [
    "#eg\n",
    "age=11\n",
    "year=3\n",
    "level=1\n",
    "\n",
    "if age>=18:\n",
    "    print(\"你是成年人\")\n",
    "    if age<30:\n",
    "        print(\"您的年龄达标了\")\n",
    "        if year>2:\n",
    "            print(\"恭喜你 年龄和入职时间都达标 可以领取礼物\")\n",
    "        elif level>3:\n",
    "            print(\"恭喜你 年龄和级别达标可以领取\")\n",
    "        else:\n",
    "            print(\"不好意思 尽管年龄达标 但是入职时间和级别都不达标\")\n",
    "    else:\n",
    "        print(\"年龄太大了 不能领取\")\n",
    "else:\n",
    "    print(\"不好意思 小朋友不能领取\")\n",
    "        "
   ]
  },
  {
   "cell_type": "code",
   "execution_count": 31,
   "metadata": {},
   "outputs": [
    {
     "name": "stdout",
     "output_type": "stream",
     "text": [
      "猜大了\n",
      "猜大了\n",
      "恭喜第三次就猜对了\n"
     ]
    }
   ],
   "source": [
    "#eg 总\n",
    "#构建一个随机的数字变量\n",
    "import random\n",
    "num=random.randint(1,10)\n",
    "\n",
    "guess_num=int(input(\"输入你要猜测的数字\"))\n",
    "\n",
    "if guess_num == num:\n",
    "    print(\"恭喜第一次就猜对了\")\n",
    "else:\n",
    "    if guess_num>num:\n",
    "        print(\"猜大了\")\n",
    "    else:\n",
    "        print(\"你猜测的数字小了\")\n",
    "    \n",
    "    guess_num=int(input(\"输入你要猜测的数字\"))\n",
    "    if guess_num == num:\n",
    "        print(\"恭喜第二次就猜对了\")\n",
    "    else:\n",
    "            if guess_num>num:\n",
    "                print(\"猜大了\")\n",
    "            else:\n",
    "                print(\"你猜测的数字小了\")\n",
    "            \n",
    "            guess_num=int(input(\"输入你要猜测的数字\"))\n",
    "            \n",
    "            if guess_num == num:\n",
    "                print(\"恭喜第三次就猜对了\")\n",
    "            else:\n",
    "                print(\"三次机会用完了,没有猜中\")\n",
    "    "
   ]
  }
 ],
 "metadata": {
  "kernelspec": {
   "display_name": "Python 3",
   "language": "python",
   "name": "python3"
  },
  "language_info": {
   "codemirror_mode": {
    "name": "ipython",
    "version": 3
   },
   "file_extension": ".py",
   "mimetype": "text/x-python",
   "name": "python",
   "nbconvert_exporter": "python",
   "pygments_lexer": "ipython3",
   "version": "3.12.7"
  }
 },
 "nbformat": 4,
 "nbformat_minor": 2
}
