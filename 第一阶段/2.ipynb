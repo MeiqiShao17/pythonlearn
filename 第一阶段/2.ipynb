{
 "cells": [
  {
   "cell_type": "markdown",
   "metadata": {},
   "source": [
    "第一章"
   ]
  },
  {
   "cell_type": "code",
   "execution_count": null,
   "metadata": {},
   "outputs": [],
   "source": [
    "money=50\n",
    "print(\"remain:\",money)\n",
    "money=money-10\n",
    "print (\"ice cream remain:\",money,\"yuan\");"
   ]
  },
  {
   "cell_type": "code",
   "execution_count": null,
   "metadata": {},
   "outputs": [],
   "source": [
    "#type()\n",
    "#1用print直接输出代码信息\n",
    "print (type(\"黑马程序员\"))\n",
    "print(type(666))\n",
    "print(type(11.23))\n",
    "#2变量存储type()语句的结果\n",
    "string_type=type(\"程序猿\")\n",
    "int_type=type(666)\n",
    "float_type=type(11.23)\n",
    "print(string_type)\n",
    "print(int_type)\n",
    "print(float_type)\n",
    "#3使用type语句 查看变量中存储的数据类型信息\n",
    "name=\"程序猿\"\n",
    "name_type=type(name)\n",
    "print(name_type)"
   ]
  },
  {
   "cell_type": "code",
   "execution_count": null,
   "metadata": {},
   "outputs": [],
   "source": [
    "#转换语句\n",
    "#int(x) 将x转换为整数\n",
    "#float(x) 将x转换为浮点数\n",
    "#str(x)将对象x转换为字符串\n",
    "num_str=str(11)\n",
    "print(type(num_str))"
   ]
  },
  {
   "cell_type": "code",
   "execution_count": 6,
   "metadata": {},
   "outputs": [
    {
     "name": "stdout",
     "output_type": "stream",
     "text": [
      "<class 'str'> 11\n",
      "<class 'str'> 11.23\n"
     ]
    }
   ],
   "source": [
    "#数字类型转换为字符串\n",
    "num_str=str(11)\n",
    "print(type(num_str),num_str)\n",
    "float_str=str(11.23)\n",
    "print(type(float_str),float_str)\n"
   ]
  },
  {
   "cell_type": "code",
   "execution_count": 8,
   "metadata": {},
   "outputs": [
    {
     "name": "stdout",
     "output_type": "stream",
     "text": [
      "<class 'int'> 11\n",
      "<class 'float'> 11.23\n"
     ]
    }
   ],
   "source": [
    "#字符串转换为数字\n",
    "num=int(\"11\")\n",
    "print(type(num),num)\n",
    "\n",
    "num2=float(\"11.23\")\n",
    "print (type(num2),num2)"
   ]
  },
  {
   "cell_type": "code",
   "execution_count": 10,
   "metadata": {},
   "outputs": [
    {
     "name": "stdout",
     "output_type": "stream",
     "text": [
      "<class 'float'> 11.0\n"
     ]
    }
   ],
   "source": [
    "#整数转浮点数\n",
    "float_num=float(11)\n",
    "print(type(float_num),float_num)"
   ]
  },
  {
   "cell_type": "code",
   "execution_count": 11,
   "metadata": {},
   "outputs": [
    {
     "name": "stdout",
     "output_type": "stream",
     "text": [
      "<class 'int'> 11\n"
     ]
    }
   ],
   "source": [
    "#浮点数转换成整数 丢失精度 小数部分\n",
    "int_num=int(11.23)\n",
    "print(type(int_num),int_num)"
   ]
  },
  {
   "cell_type": "markdown",
   "metadata": {},
   "source": [
    "1.6标识符\n",
    "内容限定（英文 中文（不推荐） 数字（不能用在开头） 下划线）\n",
    "大小写敏感\n",
    "不可使用关键字"
   ]
  },
  {
   "cell_type": "code",
   "execution_count": 12,
   "metadata": {},
   "outputs": [
    {
     "name": "stdout",
     "output_type": "stream",
     "text": [
      "heima\n",
      "666\n"
     ]
    }
   ],
   "source": [
    "#内容限定\n",
    "name_=\"miki\"\n",
    "#大小写敏感\n",
    "itheima=\"heima\"\n",
    "Itheima=\"666\"\n",
    "print(itheima)\n",
    "print(Itheima)"
   ]
  },
  {
   "cell_type": "markdown",
   "metadata": {},
   "source": [
    "1.7运算符"
   ]
  },
  {
   "cell_type": "code",
   "execution_count": 13,
   "metadata": {},
   "outputs": [
    {
     "name": "stdout",
     "output_type": "stream",
     "text": [
      "1+1= 2\n",
      "2-1= 1\n",
      "3*3= 9\n",
      "4/2= 2.0\n",
      "11//2= 5\n",
      "9%2= 1\n",
      "2**2= 4\n"
     ]
    }
   ],
   "source": [
    "\n",
    "#算数运算符\n",
    "print(\"1+1=\",1+1)\n",
    "print(\"2-1=\",2-1)\n",
    "print(\"3*3=\",3*3)\n",
    "print(\"4/2=\",4/2)\n",
    "print(\"11//2=\",11//2)#取整除\n",
    "print(\"9%2=\",9%2)#取余\n",
    "print(\"2**2=\",2**2)#指数"
   ]
  },
  {
   "cell_type": "code",
   "execution_count": 14,
   "metadata": {},
   "outputs": [
    {
     "name": "stdout",
     "output_type": "stream",
     "text": [
      "num+=1: 2\n",
      "num-=1: 1\n",
      "num*=4: 4\n",
      "num/=2: 2.0\n",
      "num%=2: 1\n",
      "num**=2: 1\n",
      "num//=2 4\n"
     ]
    }
   ],
   "source": [
    "#赋值运算符\n",
    "num=1+2*3\n",
    "#复合赋值运算符\n",
    "#+=\n",
    "num=1\n",
    "num+=1#num=num+1\n",
    "print(\"num+=1:\",num)\n",
    "num-=1#num=num-1\n",
    "print(\"num-=1:\",num)\n",
    "num*=4\n",
    "print(\"num*=4:\",num)\n",
    "num/=2\n",
    "print(\"num/=2:\",num)\n",
    "\n",
    "num=3\n",
    "num%=2\n",
    "print(\"num%=2:\",num)\n",
    "\n",
    "num**=2\n",
    "print(\"num**=2:\",num)\n",
    "\n",
    "num=9\n",
    "num//=2\n",
    "print(\"num//=2\",num)"
   ]
  },
  {
   "cell_type": "markdown",
   "metadata": {},
   "source": [
    "字符串扩展"
   ]
  },
  {
   "cell_type": "code",
   "execution_count": 15,
   "metadata": {},
   "outputs": [
    {
     "name": "stdout",
     "output_type": "stream",
     "text": [
      "<class 'str'>\n",
      "<class 'str'>\n",
      "<class 'str'>\n"
     ]
    }
   ],
   "source": [
    "#单引号\n",
    "name='miki'\n",
    "print(type(name))\n",
    "#双引号\n",
    "name=\"miki\"\n",
    "print(type(name))\n",
    "#三引号=多行注释\n",
    "name=\"\"\"\n",
    "miki\n",
    "\"\"\"\n",
    "print(type(name))"
   ]
  },
  {
   "cell_type": "code",
   "execution_count": 17,
   "metadata": {},
   "outputs": [
    {
     "name": "stdout",
     "output_type": "stream",
     "text": [
      "\"miki\"\n",
      "'miki'\n",
      "\"miki\"\n",
      "'miki'\n"
     ]
    }
   ],
   "source": [
    "#引号嵌套\n",
    "#在字符串内包含双引号\n",
    "name='\"miki\"'\n",
    "print(name)\n",
    "#在字符串内包含双引号\n",
    "name=\"'miki'\"\n",
    "print(name)\n",
    "#使用转义字符\\解除引号效用\n",
    "name=\"\\\"miki\\\"\"\n",
    "print(name)\n",
    "name='\\'miki\\''\n",
    "print(name)"
   ]
  },
  {
   "cell_type": "markdown",
   "metadata": {},
   "source": [
    "字符串拼接\n"
   ]
  },
  {
   "cell_type": "code",
   "execution_count": 4,
   "metadata": {},
   "outputs": [
    {
     "name": "stdout",
     "output_type": "stream",
     "text": [
      "mikigood\n",
      "my name is: miki,my address is:11\n"
     ]
    },
    {
     "ename": "NameError",
     "evalue": "name 'tel' is not defined",
     "output_type": "error",
     "traceback": [
      "\u001b[0;31m---------------------------------------------------------------------------\u001b[0m",
      "\u001b[0;31mNameError\u001b[0m                                 Traceback (most recent call last)",
      "Cell \u001b[0;32mIn[4], line 8\u001b[0m\n\u001b[1;32m      6\u001b[0m \u001b[38;5;28mprint\u001b[39m(\u001b[38;5;124mf\u001b[39m\u001b[38;5;124m\"\u001b[39m\u001b[38;5;124mmy name is: \u001b[39m\u001b[38;5;132;01m{\u001b[39;00mname\u001b[38;5;132;01m}\u001b[39;00m\u001b[38;5;124m,my address is:\u001b[39m\u001b[38;5;132;01m{\u001b[39;00maddress\u001b[38;5;132;01m}\u001b[39;00m\u001b[38;5;124m\"\u001b[39m)\n\u001b[1;32m      7\u001b[0m tel:\u001b[38;5;241m111\u001b[39m\u001b[38;5;66;03m#数字不能拼接\u001b[39;00m\n\u001b[0;32m----> 8\u001b[0m \u001b[38;5;28mprint\u001b[39m(\u001b[38;5;124mf\u001b[39m\u001b[38;5;124m\"\u001b[39m\u001b[38;5;124mmy name is:\u001b[39m\u001b[38;5;132;01m{\u001b[39;00mname\u001b[38;5;132;01m}\u001b[39;00m\u001b[38;5;124m ,my address is:\u001b[39m\u001b[38;5;132;01m{\u001b[39;00maddress\u001b[38;5;132;01m}\u001b[39;00m\u001b[38;5;124m, my tel is:\u001b[39m\u001b[38;5;132;01m{\u001b[39;00m\u001b[43mtel\u001b[49m\u001b[38;5;132;01m}\u001b[39;00m\u001b[38;5;124m\"\u001b[39m)\n",
      "\u001b[0;31mNameError\u001b[0m: name 'tel' is not defined"
     ]
    }
   ],
   "source": [
    "#字符串字面量之间的拼接\n",
    "print(\"miki\"+\"good\")\n",
    "#字符串字面量和字符串变量之间的拼接\n",
    "name=\"miki\"\n",
    "address=\"11\"\n",
    "print(f\"my name is: {name},my address is:{address}\")\n",
    "tel:111#数字不能拼接\n",
    "print(f\"my name is:{name} ,my address is:{address}, my tel is:{tel}\")"
   ]
  },
  {
   "cell_type": "markdown",
   "metadata": {},
   "source": [
    "字符串格式化"
   ]
  },
  {
   "cell_type": "code",
   "execution_count": 30,
   "metadata": {},
   "outputs": [
    {
     "name": "stdout",
     "output_type": "stream",
     "text": [
      "miki learn python\n",
      "python大数据学科, 北京57期, 毕业平均工资：16781\n",
      "miki, 成立于：2006, 今天的股价是：19.990000\n"
     ]
    }
   ],
   "source": [
    "#通过占位的形式完成拼接\n",
    "name=\"miki\"\n",
    "message=\"%s learn python\" %name\n",
    "print(message)\n",
    "#通过占位的形式，完成数字和字符串的拼接 %s 将内容转换成字符串 放入占位位置\n",
    "class_num=57\n",
    "avg_salary=16781\n",
    "message=\"python大数据学科, 北京%s期, 毕业平均工资：%s\" %(class_num, avg_salary)\n",
    "print(message)\n",
    "# %d 内容转换成整数 放入占位位置\n",
    "name=\"miki\"\n",
    "setup_year=2006\n",
    "stock_price=19.99\n",
    "message=\"%s, 成立于：%d, 今天的股价是：%f\"%(name,setup_year,stock_price)\n",
    "print(message)\n",
    "# %f 内容转换成浮点型，放入占位位置\n"
   ]
  },
  {
   "cell_type": "markdown",
   "metadata": {},
   "source": [
    "格式化的精度控制\n",
    "“m.n”控制数据的宽度和精度\n",
    "m, 控制宽度，要求数字（很少使用），设置的宽度小于数字自身，不生效\n",
    ".n  控制小数点的精度，要求数字，进行小数的四舍五入"
   ]
  },
  {
   "cell_type": "code",
   "execution_count": 31,
   "metadata": {},
   "outputs": [
    {
     "name": "stdout",
     "output_type": "stream",
     "text": [
      "数字11宽度限制5,结果是:    11\n",
      "数字11宽度限制1,结果是:11\n",
      "数字11.345宽度限制7, 小数精度2, 结果是:   11.35\n",
      "数字11.345宽度不限制, 小数精度2, 结果是: 11.35\n"
     ]
    }
   ],
   "source": [
    "num1=11\n",
    "num2=11.345\n",
    "print(\"数字11宽度限制5,结果是: %5d\"%num1)\n",
    "print(\"数字11宽度限制1,结果是:%1d\"%num1)\n",
    "print(\"数字11.345宽度限制7, 小数精度2, 结果是: %7.2f\"%num2)\n",
    "print(\"数字11.345宽度不限制, 小数精度2, 结果是: %.2f\"%num2)"
   ]
  },
  {
   "cell_type": "markdown",
   "metadata": {},
   "source": [
    "字符串格式化\n",
    "f\"内容{变量}“的格式来快速格式化\n",
    "不做精度控制 不在乎数据类型"
   ]
  },
  {
   "cell_type": "code",
   "execution_count": 32,
   "metadata": {},
   "outputs": [
    {
     "name": "stdout",
     "output_type": "stream",
     "text": [
      "我是miki,我成立于：2006年， 我今天的股价是：19.99\n"
     ]
    }
   ],
   "source": [
    "name=\"miki\"\n",
    "set_up_year=2006\n",
    "stock_price=19.99\n",
    "#f:format\n",
    "print(f\"我是{name},我成立于：{set_up_year}年， 我今天的股价是：{stock_price}\")\n"
   ]
  },
  {
   "cell_type": "markdown",
   "metadata": {},
   "source": [
    "对表达式的格式化\n",
    "表达式：一条具有明确执行结果的代码语句"
   ]
  },
  {
   "cell_type": "code",
   "execution_count": 33,
   "metadata": {},
   "outputs": [
    {
     "name": "stdout",
     "output_type": "stream",
     "text": [
      "1*1的结果是: 1\n",
      "1*2的结果是:2\n",
      "字符串在python中的类型名是:<class 'str'>\n"
     ]
    }
   ],
   "source": [
    "print(\"1*1的结果是: %d\"%(1*1))\n",
    "print(f\"1*2的结果是:{1*2}\")\n",
    "print(\"字符串在python中的类型名是:%s\"%type(\"字符串\"))"
   ]
  },
  {
   "cell_type": "code",
   "execution_count": 35,
   "metadata": {},
   "outputs": [
    {
     "name": "stdout",
     "output_type": "stream",
     "text": [
      "公司传智播客,股票代码:003032,当前股价:19.99\n",
      "每日增长系数 1.2,经过7天的增长后,股价达到了:71.63\n"
     ]
    }
   ],
   "source": [
    "#eg\n",
    "name=\"传智播客\"\n",
    "stock_price=19.99\n",
    "stock_code=\"003032\"\n",
    "stock_price_daily_growth_factor=1.2\n",
    "growth_days=7\n",
    "\n",
    "finally_stock_price=stock_price*stock_price_daily_growth_factor**growth_days\n",
    "print(f\"公司{name},股票代码:{stock_code},当前股价:{stock_price}\")\n",
    "print(\"每日增长系数 %.1f,经过%d天的增长后,股价达到了:%.2f\"%(stock_price_daily_growth_factor,growth_days,finally_stock_price))\n"
   ]
  },
  {
   "cell_type": "markdown",
   "metadata": {},
   "source": [
    "1.8数据输入 \n",
    "   input()都是字符串"
   ]
  },
  {
   "cell_type": "code",
   "execution_count": null,
   "metadata": {},
   "outputs": [],
   "source": [
    "#获取键盘的输入信息\n",
    "name=input(\"请告诉我你是谁？\")\n",
    "print(\"我知道了,你是: %s\"%name)\n",
    "\n",
    "#输入数字类型\n",
    "num=input(\"请告诉我你的号码：\")\n",
    "#数据类型转换\n",
    "int(num)\n",
    "print(\"你的银行卡号码是：\",type(num))"
   ]
  }
 ],
 "metadata": {
  "kernelspec": {
   "display_name": "Python 3",
   "language": "python",
   "name": "python3"
  },
  "language_info": {
   "codemirror_mode": {
    "name": "ipython",
    "version": 3
   },
   "file_extension": ".py",
   "mimetype": "text/x-python",
   "name": "python",
   "nbconvert_exporter": "python",
   "pygments_lexer": "ipython3",
   "version": "3.12.7"
  }
 },
 "nbformat": 4,
 "nbformat_minor": 2
}
