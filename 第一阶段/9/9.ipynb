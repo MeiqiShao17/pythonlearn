{
 "cells": [
  {
   "cell_type": "markdown",
   "metadata": {},
   "source": [
    "## 9 异常  \n",
    "# 9.1 了解异常  \n",
    "  异常：程序运行过程中出现了错误\n",
    "# 9.2  异常的捕获  \n",
    "1. 捕获常规异常：基本语法：try： 可能发生错误的代码\n",
    "                       except： 如果出现异常执行的代码  \n",
    "\n",
    "2. 捕获指定异常：基本语法：try：\n",
    "                          print(name)\n",
    "                       except NameError as e:\n",
    "                          print('name变量名称未定义错误')  \n",
    "\n",
    "3. 捕获多个异常：把要捕获的异常类型的名字，放到except之后，使用元组的方式进行书写  \n",
    "               基本语法：try：\n",
    "                          print（1/0）\n",
    "                       except（Nameerror，ZeroDivisionError）：\n",
    "                          print('ZeroDivision错误...')  \n",
    "\n",
    "4. 异常else： 如果没有异常要执行的代码  \n",
    "\n",
    "5. 异常的finall：无论是否异常都要执行的代码，例如关闭文件"
   ]
  },
  {
   "cell_type": "code",
   "execution_count": null,
   "metadata": {},
   "outputs": [],
   "source": [
    "#捕获异常\n",
    "#基本捕获语法\n",
    "try:\n",
    "    f=open(\"/Users/miki/1/abc.txt\", \"r\", encoding=\"UTF-8\")\n",
    "except:\n",
    "    print(f\"出现异常了，因为文件不存在，我将open模式，改为w模式去打开\")\n",
    "    f=open(\"/Users/miki/1/abc.txt\", \"w\", encoding=\"UTF-8\")\n",
    "\n",
    "#捕获指定的异常\n",
    "try:\n",
    "    print(name)\n",
    "    #1/0\n",
    "except NameError as e:\n",
    "    print(\"出现了变量未定义的异常\")\n",
    "    print(e)\n",
    "\n",
    "#捕获多个异常\n",
    "try:\n",
    "    print(name)\n",
    "except(NameError,ZeroDivisionError) as e:\n",
    "    print(\"出现了变量未定义，或者除以0的异常错误\")\n",
    "\n",
    "#未正确设置捕获异常类型，将无法捕获异常\n",
    "\n",
    "#捕获全部异常\n",
    "try:\n",
    "    f=open(\"/Users/miki/1/abc.txt\", \"r\", encoding=\"UTF-8\")\n",
    "except Exception as e:\n",
    "    print(\"出现异常了\")\n",
    "    f=open(\"/Users/miki/1/abc.txt\", \"w\", encoding=\"UTF-8\")\n",
    "else:\n",
    "    print(\"好高兴，没有异常\")\n",
    "finally:\n",
    "    print(\"我是finally，有没有异常我都要执行\")\n",
    "    f.close()\n",
    "   "
   ]
  },
  {
   "cell_type": "markdown",
   "metadata": {},
   "source": [
    "# 9.3 异常的传递"
   ]
  },
  {
   "cell_type": "code",
   "execution_count": 17,
   "metadata": {},
   "outputs": [
    {
     "name": "stdout",
     "output_type": "stream",
     "text": [
      "func2 开始执行\n",
      "func1 开始执行\n",
      "出现异常了，异常的信息是:division by zero\n"
     ]
    }
   ],
   "source": [
    "#异常的传递性\n",
    "\n",
    "#定义一个出现异常的方法\n",
    "def func1():\n",
    "    print(\"func1 开始执行\")\n",
    "    num=1/0  #肯定有异常，除以0的异常\n",
    "    print(\"func1 结束执行\")\n",
    "\n",
    "#定义一个无异常的方法，调用上面的方法\n",
    "def func2():\n",
    "    print(\"func2 开始执行\")\n",
    "    func1()\n",
    "    print(\"func2 结束执行\")\n",
    "\n",
    "#定义一个方法，调用上面的方法\n",
    "def main():\n",
    "    try:\n",
    "        func2()\n",
    "    except Exception as e:\n",
    "        print(f\"出现异常了，异常的信息是:{e}\")\n",
    "\n",
    "main()"
   ]
  },
  {
   "cell_type": "markdown",
   "metadata": {},
   "source": [
    "# 9.4 python 模块  \n",
    "1. 模块 module .py结尾 工具包  \n",
    "        导入方式：[from 模块名] import [模块|类|变量|函数|*][as 别名]   #中括号表示可选  import必须写\n",
    "        常用组合形式： import 模块名 ：基本语法： import 模块名\n",
    "                                             import  模块名1，模块名2\n",
    "                                            \n",
    "                                            模块名.功能名\n",
    "                    from 模块名 import 功能名： 基本语法：from 模块名 import 功能名\n",
    "                                                       功能名（）\n",
    "                    \n",
    "                    from 模块名 import*    基本语法：from 模块名 import*\n",
    "                                                   功能名（）\n",
    "                    \n",
    "                    as定义别名：基本语法：#模块定义别名\n",
    "                                       import 模块名 as 别名\n",
    "\n",
    "                                       #功能定义别名\n",
    "                                       from 模块名 import 功能 as 别名\n",
    "2. "
   ]
  },
  {
   "cell_type": "code",
   "execution_count": null,
   "metadata": {},
   "outputs": [],
   "source": [
    "#使用import导入time模块使用sleep功能（函数）\n",
    "import time #导入python内置的time模块（time.py这个代码文件）\n",
    "print(\"hello\")\n",
    "time.sleep(5)  #通过.可以使用模块内部的全部功能（类、函数、变量）\n",
    "print(\"me good\")\n",
    "\n",
    "#使用from导入time的sleep功能（函数）\n",
    "from time import sleep\n",
    "print(\"开始\")\n",
    "sleep(5)\n",
    "print(\"end\")\n"
   ]
  },
  {
   "cell_type": "code",
   "execution_count": null,
   "metadata": {},
   "outputs": [],
   "source": [
    "#使用*导入time模块的全部功能\n",
    "from time import *    #*全部意思\n",
    "print(\"开始\")\n",
    "sleep(5)\n",
    "print(\"end\")"
   ]
  },
  {
   "cell_type": "code",
   "execution_count": null,
   "metadata": {},
   "outputs": [],
   "source": [
    "#使用as给特定功能加上别名\n",
    "import time as t\n",
    "print(\"开始\")\n",
    "t.sleep(5)\n",
    "print(\"end\")"
   ]
  },
  {
   "cell_type": "code",
   "execution_count": null,
   "metadata": {},
   "outputs": [],
   "source": [
    "from time import sleep as sl\n",
    "print(\"开始\")\n",
    "sl(5)\n",
    "print(\"end\")"
   ]
  },
  {
   "cell_type": "markdown",
   "metadata": {},
   "source": [
    "python 自定义模块并导入\n",
    " "
   ]
  },
  {
   "cell_type": "code",
   "execution_count": null,
   "metadata": {},
   "outputs": [],
   "source": [
    "#自定义模块\n",
    "\n",
    "#导入自定义模块使用\n",
    "#import my_module1\n",
    "#from my_module1 import test\n",
    "#test(1,2)"
   ]
  },
  {
   "cell_type": "code",
   "execution_count": null,
   "metadata": {},
   "outputs": [],
   "source": [
    "#导入不同模块的同名功能\n",
    "#from my_module1 import test\n",
    "#from my_module2 import test\n",
    "#test(1,2)"
   ]
  },
  {
   "cell_type": "code",
   "execution_count": 31,
   "metadata": {},
   "outputs": [],
   "source": [
    "#---main--变量\n",
    "#from my_module1 import test"
   ]
  },
  {
   "cell_type": "markdown",
   "metadata": {},
   "source": [
    "__all__\n",
    "如果一个模块文件中有\"all\"变量，当使用'from xxx import *'导入时，只能导入这个列表中的元素"
   ]
  },
  {
   "cell_type": "code",
   "execution_count": null,
   "metadata": {},
   "outputs": [],
   "source": [
    "from my_module1 import *\n",
    "test_a(1,2)\n",
    "test_b(2,1)"
   ]
  },
  {
   "cell_type": "markdown",
   "metadata": {},
   "source": [
    "9.5 python包\n",
    "1. 自定义包  \n",
    "   包=文件夹；包含_init_.py的文件  \n",
    "   导入包：方式1： import包名.模块名\n",
    "                  包名.模块名.目标\n",
    "          方式2: from 包名 import*\n",
    "                 模块名.目标\n",
    "2. 安装第三方"
   ]
  },
  {
   "cell_type": "code",
   "execution_count": 1,
   "metadata": {},
   "outputs": [
    {
     "name": "stdout",
     "output_type": "stream",
     "text": [
      "我是模块1的功能函数代码\n",
      "我是模块2的功能函数代码\n"
     ]
    }
   ],
   "source": [
    "#演示python的包\n",
    "\n",
    "#创建一个包\n",
    "#1导入自定义的包中的模块，并使用\n",
    "import my_utils.str_util\n",
    "import my_utils.file_util\n",
    "\n",
    "my_utils.str_util.info_print1()\n",
    "my_utils.file_util.info_print2()"
   ]
  },
  {
   "cell_type": "code",
   "execution_count": 2,
   "metadata": {},
   "outputs": [
    {
     "name": "stdout",
     "output_type": "stream",
     "text": [
      "我是模块1的功能函数代码\n",
      "我是模块2的功能函数代码\n"
     ]
    }
   ],
   "source": [
    "#方式2\n",
    "from my_utils import str_util\n",
    "from my_utils import file_util\n",
    "\n",
    "str_util.info_print1()\n",
    "file_util.info_print2()"
   ]
  },
  {
   "cell_type": "code",
   "execution_count": 3,
   "metadata": {},
   "outputs": [
    {
     "name": "stdout",
     "output_type": "stream",
     "text": [
      "我是模块1的功能函数代码\n",
      "我是模块2的功能函数代码\n"
     ]
    }
   ],
   "source": [
    "#3\n",
    "from my_utils.str_util import info_print1\n",
    "from my_utils.file_util import info_print2\n",
    "info_print1()\n",
    "info_print2()"
   ]
  },
  {
   "cell_type": "code",
   "execution_count": 4,
   "metadata": {},
   "outputs": [
    {
     "name": "stdout",
     "output_type": "stream",
     "text": [
      "我是模块1的功能函数代码\n",
      "我是模块2的功能函数代码\n"
     ]
    }
   ],
   "source": [
    "#通过__all__变量，控制import*\n",
    "from my_utils import*\n",
    "str_util.info_print1()\n",
    "file_util.info_print2()"
   ]
  },
  {
   "cell_type": "markdown",
   "metadata": {},
   "source": [
    "9.5 安装第三方包"
   ]
  },
  {
   "cell_type": "code",
   "execution_count": 4,
   "metadata": {},
   "outputs": [
    {
     "name": "stdout",
     "output_type": "stream",
     "text": [
      "amiehti\n",
      "hell\n"
     ]
    }
   ],
   "source": [
    "#自定义工具包\n",
    "\n",
    "#创建my_utils包，在包内创建：str_util.py和 file_util.py 2个模块，并提供相应的函数\n",
    "import my_utils.str_util\n",
    "from my_utils import file_util\n",
    "\n",
    "print(my_utils.str_util.str_reverse(\"itheima\"))\n",
    "print(my_utils.str_util.substr(\"helllllo\",0,4))\n",
    "\n",
    "#file_util.print_file_info(\"/Users/miki/1/test_append.txt\")\n",
    "file_util.append_to_file(\"/Users/miki/1/test_append.txt\",\"itheima\")\n"
   ]
  }
 ],
 "metadata": {
  "kernelspec": {
   "display_name": "Python 3",
   "language": "python",
   "name": "python3"
  },
  "language_info": {
   "codemirror_mode": {
    "name": "ipython",
    "version": 3
   },
   "file_extension": ".py",
   "mimetype": "text/x-python",
   "name": "python",
   "nbconvert_exporter": "python",
   "pygments_lexer": "ipython3",
   "version": "3.12.7"
  }
 },
 "nbformat": 4,
 "nbformat_minor": 2
}
